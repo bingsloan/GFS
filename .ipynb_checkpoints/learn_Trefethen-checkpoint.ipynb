{
 "cells": [
  {
   "cell_type": "markdown",
   "metadata": {},
   "source": [
    "$A^{-1}b$ is the vector of coefficients of the expansion of b in the basis of colunms of $A$\n",
    "\n",
    "Multiplication by $A^{-1}$ is a change of basis operation"
   ]
  },
  {
   "cell_type": "markdown",
   "metadata": {},
   "source": [
    "$A^*$is ***hermitian conjugate*** or adjoint of an $m\\times n$ matrix $A$\n",
    "\n",
    "$$A = \\left [\n",
    "\\begin{matrix}\n",
    "a_{11}&a_{12} \\\\\n",
    "a_{21}&a_{22} \\\\\n",
    "a_{31}&a_{32} \\\\\n",
    "\\end{matrix}\n",
    "\\right]\n",
    "\\longrightarrow\n",
    "A^* = \\left [\n",
    "\\begin{matrix}\n",
    "\\bar{a}_{11}&\\bar{a}_{21}&\\bar{a}_{31} \\\\\n",
    "\\bar{a}_{12}&\\bar{a}_{22}&\\bar{a}_{32} \\\\\n",
    "\\end{matrix}\n",
    "\\right]$$\n",
    "\n",
    "If $A = A^*$, $A$ is ***hermitian*** \n",
    "\n",
    "If a real matrix is hermitian, that is, $A = A^T$, $A$ is said to be ***symmetric***"
   ]
  },
  {
   "cell_type": "code",
   "execution_count": null,
   "metadata": {},
   "outputs": [],
   "source": []
  }
 ],
 "metadata": {
  "kernelspec": {
   "display_name": "Python 3",
   "language": "python",
   "name": "python3"
  },
  "language_info": {
   "codemirror_mode": {
    "name": "ipython",
    "version": 3
   },
   "file_extension": ".py",
   "mimetype": "text/x-python",
   "name": "python",
   "nbconvert_exporter": "python",
   "pygments_lexer": "ipython3",
   "version": "3.7.2"
  },
  "toc": {
   "base_numbering": 1,
   "nav_menu": {},
   "number_sections": true,
   "sideBar": true,
   "skip_h1_title": false,
   "title_cell": "Table of Contents",
   "title_sidebar": "Contents",
   "toc_cell": false,
   "toc_position": {},
   "toc_section_display": true,
   "toc_window_display": false
  }
 },
 "nbformat": 4,
 "nbformat_minor": 2
}
