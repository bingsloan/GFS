{
 "cells": [
  {
   "cell_type": "markdown",
   "metadata": {},
   "source": [
    "# Pandas"
   ]
  },
  {
   "cell_type": "code",
   "execution_count": 9,
   "metadata": {},
   "outputs": [],
   "source": [
    "import pandas as pd\n",
    "import numpy as np"
   ]
  },
  {
   "cell_type": "markdown",
   "metadata": {},
   "source": [
    "## Series"
   ]
  },
  {
   "cell_type": "code",
   "execution_count": 16,
   "metadata": {},
   "outputs": [
    {
     "data": {
      "text/plain": [
       "0    1\n",
       "1    3\n",
       "2    5\n",
       "dtype: int64"
      ]
     },
     "execution_count": 16,
     "metadata": {},
     "output_type": "execute_result"
    }
   ],
   "source": [
    "s=pd.Series([1,3,5])\n",
    "s"
   ]
  },
  {
   "cell_type": "code",
   "execution_count": 17,
   "metadata": {},
   "outputs": [
    {
     "data": {
      "text/plain": [
       "0    1.0\n",
       "1    3.0\n",
       "2    5.0\n",
       "3    NaN\n",
       "4    6.0\n",
       "5    8.0\n",
       "dtype: float64"
      ]
     },
     "execution_count": 17,
     "metadata": {},
     "output_type": "execute_result"
    }
   ],
   "source": [
    "s=pd.Series([1,3,5,np.nan,6,8])\n",
    "s"
   ]
  },
  {
   "cell_type": "code",
   "execution_count": 18,
   "metadata": {},
   "outputs": [
    {
     "data": {
      "text/plain": [
       "RangeIndex(start=0, stop=6, step=1)"
      ]
     },
     "execution_count": 18,
     "metadata": {},
     "output_type": "execute_result"
    }
   ],
   "source": [
    "s.index"
   ]
  },
  {
   "cell_type": "code",
   "execution_count": 19,
   "metadata": {},
   "outputs": [
    {
     "data": {
      "text/plain": [
       "array([ 1.,  3.,  5., nan,  6.,  8.])"
      ]
     },
     "execution_count": 19,
     "metadata": {},
     "output_type": "execute_result"
    }
   ],
   "source": [
    "s.values"
   ]
  },
  {
   "cell_type": "code",
   "execution_count": 21,
   "metadata": {},
   "outputs": [
    {
     "data": {
      "text/plain": [
       "nan"
      ]
     },
     "execution_count": 21,
     "metadata": {},
     "output_type": "execute_result"
    }
   ],
   "source": [
    "s[3]"
   ]
  },
  {
   "cell_type": "code",
   "execution_count": 22,
   "metadata": {},
   "outputs": [
    {
     "data": {
      "text/plain": [
       "2    5.0\n",
       "3    NaN\n",
       "4    6.0\n",
       "dtype: float64"
      ]
     },
     "execution_count": 22,
     "metadata": {},
     "output_type": "execute_result"
    }
   ],
   "source": [
    "s[2:5]"
   ]
  },
  {
   "cell_type": "code",
   "execution_count": 23,
   "metadata": {},
   "outputs": [
    {
     "data": {
      "text/plain": [
       "0    1.0\n",
       "2    5.0\n",
       "4    6.0\n",
       "dtype: float64"
      ]
     },
     "execution_count": 23,
     "metadata": {},
     "output_type": "execute_result"
    }
   ],
   "source": [
    "s[::2]"
   ]
  },
  {
   "cell_type": "code",
   "execution_count": 24,
   "metadata": {},
   "outputs": [
    {
     "data": {
      "text/plain": [
       "索引\n",
       "0    1.0\n",
       "1    3.0\n",
       "2    5.0\n",
       "3    NaN\n",
       "4    6.0\n",
       "5    8.0\n",
       "dtype: float64"
      ]
     },
     "execution_count": 24,
     "metadata": {},
     "output_type": "execute_result"
    }
   ],
   "source": [
    "s.index.name='索引'\n",
    "s"
   ]
  },
  {
   "cell_type": "code",
   "execution_count": 25,
   "metadata": {},
   "outputs": [
    {
     "data": {
      "text/plain": [
       "a    1.0\n",
       "b    3.0\n",
       "c    5.0\n",
       "d    NaN\n",
       "e    6.0\n",
       "f    8.0\n",
       "dtype: float64"
      ]
     },
     "execution_count": 25,
     "metadata": {},
     "output_type": "execute_result"
    }
   ],
   "source": [
    "s.index=list('abcdef')\n",
    "s"
   ]
  },
  {
   "cell_type": "code",
   "execution_count": 26,
   "metadata": {},
   "outputs": [
    {
     "data": {
      "text/plain": [
       "a    1.0\n",
       "b    3.0\n",
       "c    5.0\n",
       "dtype: float64"
      ]
     },
     "execution_count": 26,
     "metadata": {},
     "output_type": "execute_result"
    }
   ],
   "source": [
    "s['a':'c']   #字符串切片，右边也是闭合"
   ]
  },
  {
   "cell_type": "markdown",
   "metadata": {},
   "source": [
    "## DataFrame"
   ]
  },
  {
   "cell_type": "code",
   "execution_count": 27,
   "metadata": {},
   "outputs": [
    {
     "name": "stdout",
     "output_type": "stream",
     "text": [
      "DatetimeIndex(['2018-01-01', '2018-01-02', '2018-01-03', '2018-01-04',\n",
      "               '2018-01-05', '2018-01-06'],\n",
      "              dtype='datetime64[ns]', freq='D')\n"
     ]
    }
   ],
   "source": [
    "date=pd.date_range('20180101',periods=6)\n",
    "print(date)"
   ]
  },
  {
   "cell_type": "code",
   "execution_count": 28,
   "metadata": {},
   "outputs": [
    {
     "data": {
      "text/html": [
       "<div>\n",
       "<style scoped>\n",
       "    .dataframe tbody tr th:only-of-type {\n",
       "        vertical-align: middle;\n",
       "    }\n",
       "\n",
       "    .dataframe tbody tr th {\n",
       "        vertical-align: top;\n",
       "    }\n",
       "\n",
       "    .dataframe thead th {\n",
       "        text-align: right;\n",
       "    }\n",
       "</style>\n",
       "<table border=\"1\" class=\"dataframe\">\n",
       "  <thead>\n",
       "    <tr style=\"text-align: right;\">\n",
       "      <th></th>\n",
       "      <th>0</th>\n",
       "      <th>1</th>\n",
       "      <th>2</th>\n",
       "      <th>3</th>\n",
       "    </tr>\n",
       "  </thead>\n",
       "  <tbody>\n",
       "    <tr>\n",
       "      <th>0</th>\n",
       "      <td>0.611281</td>\n",
       "      <td>0.262449</td>\n",
       "      <td>-0.589165</td>\n",
       "      <td>1.318900</td>\n",
       "    </tr>\n",
       "    <tr>\n",
       "      <th>1</th>\n",
       "      <td>0.149808</td>\n",
       "      <td>1.461939</td>\n",
       "      <td>-0.810841</td>\n",
       "      <td>0.921244</td>\n",
       "    </tr>\n",
       "    <tr>\n",
       "      <th>2</th>\n",
       "      <td>0.366832</td>\n",
       "      <td>0.686771</td>\n",
       "      <td>-0.532946</td>\n",
       "      <td>-0.419580</td>\n",
       "    </tr>\n",
       "    <tr>\n",
       "      <th>3</th>\n",
       "      <td>1.287632</td>\n",
       "      <td>-0.235266</td>\n",
       "      <td>-0.470571</td>\n",
       "      <td>-1.285552</td>\n",
       "    </tr>\n",
       "    <tr>\n",
       "      <th>4</th>\n",
       "      <td>1.461423</td>\n",
       "      <td>1.255447</td>\n",
       "      <td>0.413278</td>\n",
       "      <td>-0.284723</td>\n",
       "    </tr>\n",
       "    <tr>\n",
       "      <th>5</th>\n",
       "      <td>-0.487090</td>\n",
       "      <td>1.569902</td>\n",
       "      <td>1.060514</td>\n",
       "      <td>0.026648</td>\n",
       "    </tr>\n",
       "  </tbody>\n",
       "</table>\n",
       "</div>"
      ],
      "text/plain": [
       "          0         1         2         3\n",
       "0  0.611281  0.262449 -0.589165  1.318900\n",
       "1  0.149808  1.461939 -0.810841  0.921244\n",
       "2  0.366832  0.686771 -0.532946 -0.419580\n",
       "3  1.287632 -0.235266 -0.470571 -1.285552\n",
       "4  1.461423  1.255447  0.413278 -0.284723\n",
       "5 -0.487090  1.569902  1.060514  0.026648"
      ]
     },
     "execution_count": 28,
     "metadata": {},
     "output_type": "execute_result"
    }
   ],
   "source": [
    "df=pd.DataFrame(np.random.randn(6,4))   #二维数组来传入数据\n",
    "df"
   ]
  },
  {
   "cell_type": "code",
   "execution_count": 29,
   "metadata": {},
   "outputs": [
    {
     "data": {
      "text/html": [
       "<div>\n",
       "<style scoped>\n",
       "    .dataframe tbody tr th:only-of-type {\n",
       "        vertical-align: middle;\n",
       "    }\n",
       "\n",
       "    .dataframe tbody tr th {\n",
       "        vertical-align: top;\n",
       "    }\n",
       "\n",
       "    .dataframe thead th {\n",
       "        text-align: right;\n",
       "    }\n",
       "</style>\n",
       "<table border=\"1\" class=\"dataframe\">\n",
       "  <thead>\n",
       "    <tr style=\"text-align: right;\">\n",
       "      <th></th>\n",
       "      <th>A</th>\n",
       "      <th>B</th>\n",
       "      <th>C</th>\n",
       "      <th>D</th>\n",
       "    </tr>\n",
       "  </thead>\n",
       "  <tbody>\n",
       "    <tr>\n",
       "      <th>2018-01-01</th>\n",
       "      <td>-1.935365</td>\n",
       "      <td>-0.133091</td>\n",
       "      <td>1.149894</td>\n",
       "      <td>-0.610261</td>\n",
       "    </tr>\n",
       "    <tr>\n",
       "      <th>2018-01-02</th>\n",
       "      <td>1.311786</td>\n",
       "      <td>1.542662</td>\n",
       "      <td>-0.380571</td>\n",
       "      <td>1.103651</td>\n",
       "    </tr>\n",
       "    <tr>\n",
       "      <th>2018-01-03</th>\n",
       "      <td>0.294277</td>\n",
       "      <td>-0.798738</td>\n",
       "      <td>-1.273779</td>\n",
       "      <td>0.161081</td>\n",
       "    </tr>\n",
       "    <tr>\n",
       "      <th>2018-01-04</th>\n",
       "      <td>-0.134481</td>\n",
       "      <td>-0.606157</td>\n",
       "      <td>-0.613771</td>\n",
       "      <td>0.547763</td>\n",
       "    </tr>\n",
       "    <tr>\n",
       "      <th>2018-01-05</th>\n",
       "      <td>-0.246078</td>\n",
       "      <td>1.113769</td>\n",
       "      <td>-1.990592</td>\n",
       "      <td>-1.027454</td>\n",
       "    </tr>\n",
       "    <tr>\n",
       "      <th>2018-01-06</th>\n",
       "      <td>1.030837</td>\n",
       "      <td>-0.714014</td>\n",
       "      <td>0.375010</td>\n",
       "      <td>-0.339833</td>\n",
       "    </tr>\n",
       "  </tbody>\n",
       "</table>\n",
       "</div>"
      ],
      "text/plain": [
       "                   A         B         C         D\n",
       "2018-01-01 -1.935365 -0.133091  1.149894 -0.610261\n",
       "2018-01-02  1.311786  1.542662 -0.380571  1.103651\n",
       "2018-01-03  0.294277 -0.798738 -1.273779  0.161081\n",
       "2018-01-04 -0.134481 -0.606157 -0.613771  0.547763\n",
       "2018-01-05 -0.246078  1.113769 -1.990592 -1.027454\n",
       "2018-01-06  1.030837 -0.714014  0.375010 -0.339833"
      ]
     },
     "execution_count": 29,
     "metadata": {},
     "output_type": "execute_result"
    }
   ],
   "source": [
    "df=pd.DataFrame(np.random.randn(6,4),index=date,columns=list('ABCD'))   #指定行、列的索引\n",
    "df"
   ]
  },
  {
   "cell_type": "code",
   "execution_count": 30,
   "metadata": {},
   "outputs": [
    {
     "data": {
      "text/html": [
       "<div>\n",
       "<style scoped>\n",
       "    .dataframe tbody tr th:only-of-type {\n",
       "        vertical-align: middle;\n",
       "    }\n",
       "\n",
       "    .dataframe tbody tr th {\n",
       "        vertical-align: top;\n",
       "    }\n",
       "\n",
       "    .dataframe thead th {\n",
       "        text-align: right;\n",
       "    }\n",
       "</style>\n",
       "<table border=\"1\" class=\"dataframe\">\n",
       "  <thead>\n",
       "    <tr style=\"text-align: right;\">\n",
       "      <th></th>\n",
       "      <th>A</th>\n",
       "      <th>B</th>\n",
       "      <th>C</th>\n",
       "      <th>D</th>\n",
       "      <th>E</th>\n",
       "      <th>F</th>\n",
       "    </tr>\n",
       "  </thead>\n",
       "  <tbody>\n",
       "    <tr>\n",
       "      <th>0</th>\n",
       "      <td>1.0</td>\n",
       "      <td>2018-10-01</td>\n",
       "      <td>1.0</td>\n",
       "      <td>3</td>\n",
       "      <td>test</td>\n",
       "      <td>abc</td>\n",
       "    </tr>\n",
       "    <tr>\n",
       "      <th>1</th>\n",
       "      <td>1.0</td>\n",
       "      <td>2018-10-01</td>\n",
       "      <td>1.0</td>\n",
       "      <td>3</td>\n",
       "      <td>train</td>\n",
       "      <td>abc</td>\n",
       "    </tr>\n",
       "    <tr>\n",
       "      <th>2</th>\n",
       "      <td>1.0</td>\n",
       "      <td>2018-10-01</td>\n",
       "      <td>1.0</td>\n",
       "      <td>3</td>\n",
       "      <td>test</td>\n",
       "      <td>abc</td>\n",
       "    </tr>\n",
       "    <tr>\n",
       "      <th>3</th>\n",
       "      <td>1.0</td>\n",
       "      <td>2018-10-01</td>\n",
       "      <td>1.0</td>\n",
       "      <td>3</td>\n",
       "      <td>train</td>\n",
       "      <td>abc</td>\n",
       "    </tr>\n",
       "  </tbody>\n",
       "</table>\n",
       "</div>"
      ],
      "text/plain": [
       "     A          B    C  D      E    F\n",
       "0  1.0 2018-10-01  1.0  3   test  abc\n",
       "1  1.0 2018-10-01  1.0  3  train  abc\n",
       "2  1.0 2018-10-01  1.0  3   test  abc\n",
       "3  1.0 2018-10-01  1.0  3  train  abc"
      ]
     },
     "execution_count": 30,
     "metadata": {},
     "output_type": "execute_result"
    }
   ],
   "source": [
    "df2=pd.DataFrame({'A':1.,'B':pd.Timestamp('20181001'),'C':pd.Series(1,index=list(range(4)),dtype=float),'D':np.array([3]*4,dtype=int),'E':pd.Categorical(['test','train','test','train']),'F':'abc'})\n",
    "df2"
   ]
  },
  {
   "cell_type": "markdown",
   "metadata": {},
   "source": [
    "## 查看数据"
   ]
  },
  {
   "cell_type": "code",
   "execution_count": 31,
   "metadata": {},
   "outputs": [
    {
     "data": {
      "text/html": [
       "<div>\n",
       "<style scoped>\n",
       "    .dataframe tbody tr th:only-of-type {\n",
       "        vertical-align: middle;\n",
       "    }\n",
       "\n",
       "    .dataframe tbody tr th {\n",
       "        vertical-align: top;\n",
       "    }\n",
       "\n",
       "    .dataframe thead th {\n",
       "        text-align: right;\n",
       "    }\n",
       "</style>\n",
       "<table border=\"1\" class=\"dataframe\">\n",
       "  <thead>\n",
       "    <tr style=\"text-align: right;\">\n",
       "      <th></th>\n",
       "      <th>A</th>\n",
       "      <th>B</th>\n",
       "      <th>C</th>\n",
       "      <th>D</th>\n",
       "    </tr>\n",
       "  </thead>\n",
       "  <tbody>\n",
       "    <tr>\n",
       "      <th>2018-01-01</th>\n",
       "      <td>-1.935365</td>\n",
       "      <td>-0.133091</td>\n",
       "      <td>1.149894</td>\n",
       "      <td>-0.610261</td>\n",
       "    </tr>\n",
       "    <tr>\n",
       "      <th>2018-01-02</th>\n",
       "      <td>1.311786</td>\n",
       "      <td>1.542662</td>\n",
       "      <td>-0.380571</td>\n",
       "      <td>1.103651</td>\n",
       "    </tr>\n",
       "    <tr>\n",
       "      <th>2018-01-03</th>\n",
       "      <td>0.294277</td>\n",
       "      <td>-0.798738</td>\n",
       "      <td>-1.273779</td>\n",
       "      <td>0.161081</td>\n",
       "    </tr>\n",
       "    <tr>\n",
       "      <th>2018-01-04</th>\n",
       "      <td>-0.134481</td>\n",
       "      <td>-0.606157</td>\n",
       "      <td>-0.613771</td>\n",
       "      <td>0.547763</td>\n",
       "    </tr>\n",
       "    <tr>\n",
       "      <th>2018-01-05</th>\n",
       "      <td>-0.246078</td>\n",
       "      <td>1.113769</td>\n",
       "      <td>-1.990592</td>\n",
       "      <td>-1.027454</td>\n",
       "    </tr>\n",
       "  </tbody>\n",
       "</table>\n",
       "</div>"
      ],
      "text/plain": [
       "                   A         B         C         D\n",
       "2018-01-01 -1.935365 -0.133091  1.149894 -0.610261\n",
       "2018-01-02  1.311786  1.542662 -0.380571  1.103651\n",
       "2018-01-03  0.294277 -0.798738 -1.273779  0.161081\n",
       "2018-01-04 -0.134481 -0.606157 -0.613771  0.547763\n",
       "2018-01-05 -0.246078  1.113769 -1.990592 -1.027454"
      ]
     },
     "execution_count": 31,
     "metadata": {},
     "output_type": "execute_result"
    }
   ],
   "source": [
    "df.head()"
   ]
  },
  {
   "cell_type": "code",
   "execution_count": 32,
   "metadata": {},
   "outputs": [
    {
     "data": {
      "text/html": [
       "<div>\n",
       "<style scoped>\n",
       "    .dataframe tbody tr th:only-of-type {\n",
       "        vertical-align: middle;\n",
       "    }\n",
       "\n",
       "    .dataframe tbody tr th {\n",
       "        vertical-align: top;\n",
       "    }\n",
       "\n",
       "    .dataframe thead th {\n",
       "        text-align: right;\n",
       "    }\n",
       "</style>\n",
       "<table border=\"1\" class=\"dataframe\">\n",
       "  <thead>\n",
       "    <tr style=\"text-align: right;\">\n",
       "      <th></th>\n",
       "      <th>A</th>\n",
       "      <th>B</th>\n",
       "      <th>C</th>\n",
       "      <th>D</th>\n",
       "    </tr>\n",
       "  </thead>\n",
       "  <tbody>\n",
       "    <tr>\n",
       "      <th>2018-01-04</th>\n",
       "      <td>-0.134481</td>\n",
       "      <td>-0.606157</td>\n",
       "      <td>-0.613771</td>\n",
       "      <td>0.547763</td>\n",
       "    </tr>\n",
       "    <tr>\n",
       "      <th>2018-01-05</th>\n",
       "      <td>-0.246078</td>\n",
       "      <td>1.113769</td>\n",
       "      <td>-1.990592</td>\n",
       "      <td>-1.027454</td>\n",
       "    </tr>\n",
       "    <tr>\n",
       "      <th>2018-01-06</th>\n",
       "      <td>1.030837</td>\n",
       "      <td>-0.714014</td>\n",
       "      <td>0.375010</td>\n",
       "      <td>-0.339833</td>\n",
       "    </tr>\n",
       "  </tbody>\n",
       "</table>\n",
       "</div>"
      ],
      "text/plain": [
       "                   A         B         C         D\n",
       "2018-01-04 -0.134481 -0.606157 -0.613771  0.547763\n",
       "2018-01-05 -0.246078  1.113769 -1.990592 -1.027454\n",
       "2018-01-06  1.030837 -0.714014  0.375010 -0.339833"
      ]
     },
     "execution_count": 32,
     "metadata": {},
     "output_type": "execute_result"
    }
   ],
   "source": [
    "df.tail(3)"
   ]
  },
  {
   "cell_type": "code",
   "execution_count": 33,
   "metadata": {},
   "outputs": [
    {
     "data": {
      "text/plain": [
       "DatetimeIndex(['2018-01-01', '2018-01-02', '2018-01-03', '2018-01-04',\n",
       "               '2018-01-05', '2018-01-06'],\n",
       "              dtype='datetime64[ns]', freq='D')"
      ]
     },
     "execution_count": 33,
     "metadata": {},
     "output_type": "execute_result"
    }
   ],
   "source": [
    "df.index   #查看行标签"
   ]
  },
  {
   "cell_type": "code",
   "execution_count": 35,
   "metadata": {},
   "outputs": [
    {
     "data": {
      "text/plain": [
       "Index(['A', 'B', 'C', 'D'], dtype='object')"
      ]
     },
     "execution_count": 35,
     "metadata": {},
     "output_type": "execute_result"
    }
   ],
   "source": [
    "df.columns   #查看列标签值"
   ]
  },
  {
   "cell_type": "markdown",
   "metadata": {},
   "source": [
    "## 读取与操作数据"
   ]
  },
  {
   "cell_type": "code",
   "execution_count": 45,
   "metadata": {},
   "outputs": [],
   "source": [
    "df=pd.read_excel(r'C:\\Users\\bingsloan\\Desktop\\MovieList.xlsx')   #r 表示不需要转义"
   ]
  },
  {
   "cell_type": "code",
   "execution_count": 50,
   "metadata": {},
   "outputs": [
    {
     "data": {
      "text/html": [
       "<div>\n",
       "<style scoped>\n",
       "    .dataframe tbody tr th:only-of-type {\n",
       "        vertical-align: middle;\n",
       "    }\n",
       "\n",
       "    .dataframe tbody tr th {\n",
       "        vertical-align: top;\n",
       "    }\n",
       "\n",
       "    .dataframe thead th {\n",
       "        text-align: right;\n",
       "    }\n",
       "</style>\n",
       "<table border=\"1\" class=\"dataframe\">\n",
       "  <thead>\n",
       "    <tr style=\"text-align: right;\">\n",
       "      <th></th>\n",
       "      <th>序号</th>\n",
       "      <th>电影名</th>\n",
       "      <th>评分</th>\n",
       "      <th>电影产地</th>\n",
       "      <th>上映时间</th>\n",
       "      <th>电影主演</th>\n",
       "      <th>豆瓣链接</th>\n",
       "    </tr>\n",
       "  </thead>\n",
       "  <tbody>\n",
       "    <tr>\n",
       "      <th>299</th>\n",
       "      <td>300</td>\n",
       "      <td>天生不对</td>\n",
       "      <td>0.0</td>\n",
       "      <td>电影产地： 中国大陆</td>\n",
       "      <td>上映时间：  2017</td>\n",
       "      <td>电影主演:  谷德昭 , 周渝民 , 薛凯琪 , 郑中基</td>\n",
       "      <td>https://movie.douban.com/subject/26696871/?fro...</td>\n",
       "    </tr>\n",
       "  </tbody>\n",
       "</table>\n",
       "</div>"
      ],
      "text/plain": [
       "      序号   电影名   评分         电影产地          上映时间                          电影主演  \\\n",
       "299  300  天生不对  0.0  电影产地： 中国大陆   上映时间：  2017   电影主演:  谷德昭 , 周渝民 , 薛凯琪 , 郑中基   \n",
       "\n",
       "                                                  豆瓣链接  \n",
       "299  https://movie.douban.com/subject/26696871/?fro...  "
      ]
     },
     "execution_count": 50,
     "metadata": {},
     "output_type": "execute_result"
    }
   ],
   "source": [
    "df.tail(1)"
   ]
  },
  {
   "cell_type": "code",
   "execution_count": 47,
   "metadata": {},
   "outputs": [
    {
     "data": {
      "text/plain": [
       "序号                                                      1\n",
       "电影名                                  泰坦尼克号 3D版 Titanic 3D\n",
       "评分                                                    9.4\n",
       "电影产地                                            电影产地： 美国 \n",
       "上映时间                                         上映时间：  2012 \n",
       "电影主演        电影主演:  詹姆斯·卡梅隆 , 莱昂纳多·迪卡普里奥 , 凯特·温丝莱特 , 比利·赞恩\n",
       "豆瓣链接    https://movie.douban.com/subject/5450891/?from...\n",
       "Name: 0, dtype: object"
      ]
     },
     "execution_count": 47,
     "metadata": {},
     "output_type": "execute_result"
    }
   ],
   "source": [
    "df.iloc[0]"
   ]
  },
  {
   "cell_type": "code",
   "execution_count": 48,
   "metadata": {},
   "outputs": [
    {
     "data": {
      "text/html": [
       "<div>\n",
       "<style scoped>\n",
       "    .dataframe tbody tr th:only-of-type {\n",
       "        vertical-align: middle;\n",
       "    }\n",
       "\n",
       "    .dataframe tbody tr th {\n",
       "        vertical-align: top;\n",
       "    }\n",
       "\n",
       "    .dataframe thead th {\n",
       "        text-align: right;\n",
       "    }\n",
       "</style>\n",
       "<table border=\"1\" class=\"dataframe\">\n",
       "  <thead>\n",
       "    <tr style=\"text-align: right;\">\n",
       "      <th></th>\n",
       "      <th>序号</th>\n",
       "      <th>电影名</th>\n",
       "      <th>评分</th>\n",
       "      <th>电影产地</th>\n",
       "      <th>上映时间</th>\n",
       "      <th>电影主演</th>\n",
       "      <th>豆瓣链接</th>\n",
       "    </tr>\n",
       "  </thead>\n",
       "  <tbody>\n",
       "    <tr>\n",
       "      <th>0</th>\n",
       "      <td>1</td>\n",
       "      <td>泰坦尼克号 3D版 Titanic 3D</td>\n",
       "      <td>9.4</td>\n",
       "      <td>电影产地： 美国</td>\n",
       "      <td>上映时间：  2012</td>\n",
       "      <td>电影主演:  詹姆斯·卡梅隆 , 莱昂纳多·迪卡普里奥 , 凯特·温丝莱特 , 比利·赞恩</td>\n",
       "      <td>https://movie.douban.com/subject/5450891/?from...</td>\n",
       "    </tr>\n",
       "    <tr>\n",
       "      <th>1</th>\n",
       "      <td>2</td>\n",
       "      <td>开卷8分钟 開卷8分鐘</td>\n",
       "      <td>9.4</td>\n",
       "      <td>电影产地： 香港</td>\n",
       "      <td>上映时间： 香港</td>\n",
       "      <td>电影主演:  脱口秀 , 2007 , 凤凰卫视 , 梁文道</td>\n",
       "      <td>https://movie.douban.com/subject/26292731/?fro...</td>\n",
       "    </tr>\n",
       "    <tr>\n",
       "      <th>2</th>\n",
       "      <td>3</td>\n",
       "      <td>机器人总动员 WALL·E</td>\n",
       "      <td>9.3</td>\n",
       "      <td>电影产地： 美国</td>\n",
       "      <td>上映时间：  2008</td>\n",
       "      <td>电影主演:  安德鲁·斯坦顿 , 本·贝尔特 , 艾丽莎·奈特 , 杰夫·格尔林</td>\n",
       "      <td>https://movie.douban.com/subject/2131459/?from...</td>\n",
       "    </tr>\n",
       "    <tr>\n",
       "      <th>3</th>\n",
       "      <td>4</td>\n",
       "      <td>侣行 第1季</td>\n",
       "      <td>9.3</td>\n",
       "      <td>电影产地： 中国大陆</td>\n",
       "      <td>上映时间： 中国大陆</td>\n",
       "      <td>电影主演:  纪录片 , 2013 , 张昕宇 , 梁红</td>\n",
       "      <td>https://movie.douban.com/subject/24863312/?fro...</td>\n",
       "    </tr>\n",
       "    <tr>\n",
       "      <th>4</th>\n",
       "      <td>5</td>\n",
       "      <td>泰坦尼克号 Titanic</td>\n",
       "      <td>9.2</td>\n",
       "      <td>电影产地： 美国</td>\n",
       "      <td>上映时间：  1997</td>\n",
       "      <td>电影主演:  詹姆斯·卡梅隆 , 莱昂纳多·迪卡普里奥 , 凯特·温丝莱特 , 比利·赞恩</td>\n",
       "      <td>https://movie.douban.com/subject/1292722/?from...</td>\n",
       "    </tr>\n",
       "  </tbody>\n",
       "</table>\n",
       "</div>"
      ],
      "text/plain": [
       "   序号                   电影名   评分         电影产地          上映时间  \\\n",
       "0   1  泰坦尼克号 3D版 Titanic 3D  9.4    电影产地： 美国   上映时间：  2012    \n",
       "1   2           开卷8分钟 開卷8分鐘  9.4    电影产地： 香港      上映时间： 香港    \n",
       "2   3         机器人总动员 WALL·E  9.3    电影产地： 美国   上映时间：  2008    \n",
       "3   4                侣行 第1季  9.3  电影产地： 中国大陆    上映时间： 中国大陆    \n",
       "4   5         泰坦尼克号 Titanic  9.2    电影产地： 美国   上映时间：  1997    \n",
       "\n",
       "                                            电影主演  \\\n",
       "0  电影主演:  詹姆斯·卡梅隆 , 莱昂纳多·迪卡普里奥 , 凯特·温丝莱特 , 比利·赞恩   \n",
       "1                 电影主演:  脱口秀 , 2007 , 凤凰卫视 , 梁文道   \n",
       "2       电影主演:  安德鲁·斯坦顿 , 本·贝尔特 , 艾丽莎·奈特 , 杰夫·格尔林   \n",
       "3                   电影主演:  纪录片 , 2013 , 张昕宇 , 梁红   \n",
       "4  电影主演:  詹姆斯·卡梅隆 , 莱昂纳多·迪卡普里奥 , 凯特·温丝莱特 , 比利·赞恩   \n",
       "\n",
       "                                                豆瓣链接  \n",
       "0  https://movie.douban.com/subject/5450891/?from...  \n",
       "1  https://movie.douban.com/subject/26292731/?fro...  \n",
       "2  https://movie.douban.com/subject/2131459/?from...  \n",
       "3  https://movie.douban.com/subject/24863312/?fro...  \n",
       "4  https://movie.douban.com/subject/1292722/?from...  "
      ]
     },
     "execution_count": 48,
     "metadata": {},
     "output_type": "execute_result"
    }
   ],
   "source": [
    "df.iloc[0:5]"
   ]
  },
  {
   "cell_type": "code",
   "execution_count": 49,
   "metadata": {},
   "outputs": [
    {
     "data": {
      "text/html": [
       "<div>\n",
       "<style scoped>\n",
       "    .dataframe tbody tr th:only-of-type {\n",
       "        vertical-align: middle;\n",
       "    }\n",
       "\n",
       "    .dataframe tbody tr th {\n",
       "        vertical-align: top;\n",
       "    }\n",
       "\n",
       "    .dataframe thead th {\n",
       "        text-align: right;\n",
       "    }\n",
       "</style>\n",
       "<table border=\"1\" class=\"dataframe\">\n",
       "  <thead>\n",
       "    <tr style=\"text-align: right;\">\n",
       "      <th></th>\n",
       "      <th>序号</th>\n",
       "      <th>电影名</th>\n",
       "      <th>评分</th>\n",
       "      <th>电影产地</th>\n",
       "      <th>上映时间</th>\n",
       "      <th>电影主演</th>\n",
       "      <th>豆瓣链接</th>\n",
       "    </tr>\n",
       "  </thead>\n",
       "  <tbody>\n",
       "    <tr>\n",
       "      <th>0</th>\n",
       "      <td>1</td>\n",
       "      <td>泰坦尼克号 3D版 Titanic 3D</td>\n",
       "      <td>9.4</td>\n",
       "      <td>电影产地： 美国</td>\n",
       "      <td>上映时间：  2012</td>\n",
       "      <td>电影主演:  詹姆斯·卡梅隆 , 莱昂纳多·迪卡普里奥 , 凯特·温丝莱特 , 比利·赞恩</td>\n",
       "      <td>https://movie.douban.com/subject/5450891/?from...</td>\n",
       "    </tr>\n",
       "    <tr>\n",
       "      <th>1</th>\n",
       "      <td>2</td>\n",
       "      <td>开卷8分钟 開卷8分鐘</td>\n",
       "      <td>9.4</td>\n",
       "      <td>电影产地： 香港</td>\n",
       "      <td>上映时间： 香港</td>\n",
       "      <td>电影主演:  脱口秀 , 2007 , 凤凰卫视 , 梁文道</td>\n",
       "      <td>https://movie.douban.com/subject/26292731/?fro...</td>\n",
       "    </tr>\n",
       "    <tr>\n",
       "      <th>2</th>\n",
       "      <td>3</td>\n",
       "      <td>机器人总动员 WALL·E</td>\n",
       "      <td>9.3</td>\n",
       "      <td>电影产地： 美国</td>\n",
       "      <td>上映时间：  2008</td>\n",
       "      <td>电影主演:  安德鲁·斯坦顿 , 本·贝尔特 , 艾丽莎·奈特 , 杰夫·格尔林</td>\n",
       "      <td>https://movie.douban.com/subject/2131459/?from...</td>\n",
       "    </tr>\n",
       "    <tr>\n",
       "      <th>3</th>\n",
       "      <td>4</td>\n",
       "      <td>侣行 第1季</td>\n",
       "      <td>9.3</td>\n",
       "      <td>电影产地： 中国大陆</td>\n",
       "      <td>上映时间： 中国大陆</td>\n",
       "      <td>电影主演:  纪录片 , 2013 , 张昕宇 , 梁红</td>\n",
       "      <td>https://movie.douban.com/subject/24863312/?fro...</td>\n",
       "    </tr>\n",
       "    <tr>\n",
       "      <th>4</th>\n",
       "      <td>5</td>\n",
       "      <td>泰坦尼克号 Titanic</td>\n",
       "      <td>9.2</td>\n",
       "      <td>电影产地： 美国</td>\n",
       "      <td>上映时间：  1997</td>\n",
       "      <td>电影主演:  詹姆斯·卡梅隆 , 莱昂纳多·迪卡普里奥 , 凯特·温丝莱特 , 比利·赞恩</td>\n",
       "      <td>https://movie.douban.com/subject/1292722/?from...</td>\n",
       "    </tr>\n",
       "    <tr>\n",
       "      <th>5</th>\n",
       "      <td>6</td>\n",
       "      <td>月神 La Luna</td>\n",
       "      <td>9.0</td>\n",
       "      <td>电影产地： 美国</td>\n",
       "      <td>上映时间：  2011</td>\n",
       "      <td>电影主演:  埃里康·卡萨罗萨 , 克丽斯塔·谢富勒 , 托尼·弗希勒 , 菲尔·谢里登</td>\n",
       "      <td>https://movie.douban.com/subject/6313765/?from...</td>\n",
       "    </tr>\n",
       "  </tbody>\n",
       "</table>\n",
       "</div>"
      ],
      "text/plain": [
       "   序号                   电影名   评分         电影产地          上映时间  \\\n",
       "0   1  泰坦尼克号 3D版 Titanic 3D  9.4    电影产地： 美国   上映时间：  2012    \n",
       "1   2           开卷8分钟 開卷8分鐘  9.4    电影产地： 香港      上映时间： 香港    \n",
       "2   3         机器人总动员 WALL·E  9.3    电影产地： 美国   上映时间：  2008    \n",
       "3   4                侣行 第1季  9.3  电影产地： 中国大陆    上映时间： 中国大陆    \n",
       "4   5         泰坦尼克号 Titanic  9.2    电影产地： 美国   上映时间：  1997    \n",
       "5   6            月神 La Luna  9.0    电影产地： 美国   上映时间：  2011    \n",
       "\n",
       "                                            电影主演  \\\n",
       "0  电影主演:  詹姆斯·卡梅隆 , 莱昂纳多·迪卡普里奥 , 凯特·温丝莱特 , 比利·赞恩   \n",
       "1                 电影主演:  脱口秀 , 2007 , 凤凰卫视 , 梁文道   \n",
       "2       电影主演:  安德鲁·斯坦顿 , 本·贝尔特 , 艾丽莎·奈特 , 杰夫·格尔林   \n",
       "3                   电影主演:  纪录片 , 2013 , 张昕宇 , 梁红   \n",
       "4  电影主演:  詹姆斯·卡梅隆 , 莱昂纳多·迪卡普里奥 , 凯特·温丝莱特 , 比利·赞恩   \n",
       "5   电影主演:  埃里康·卡萨罗萨 , 克丽斯塔·谢富勒 , 托尼·弗希勒 , 菲尔·谢里登   \n",
       "\n",
       "                                                豆瓣链接  \n",
       "0  https://movie.douban.com/subject/5450891/?from...  \n",
       "1  https://movie.douban.com/subject/26292731/?fro...  \n",
       "2  https://movie.douban.com/subject/2131459/?from...  \n",
       "3  https://movie.douban.com/subject/24863312/?fro...  \n",
       "4  https://movie.douban.com/subject/1292722/?from...  \n",
       "5  https://movie.douban.com/subject/6313765/?from...  "
      ]
     },
     "execution_count": 49,
     "metadata": {},
     "output_type": "execute_result"
    }
   ],
   "source": [
    "df.loc[0:5]  #比iloc多一行"
   ]
  },
  {
   "cell_type": "code",
   "execution_count": 51,
   "metadata": {},
   "outputs": [],
   "source": [
    "dit={'序号':'3','电影名':'复仇啊复仇','评分':'6.5','电影产地':'电影产地：火星','上映时间':'上映时间：2055','电影主演':'电影主演：筷子兄弟','豆瓣链接':'https://5.com'}\n",
    "s=pd.Series(dit)\n",
    "s.name=300"
   ]
  },
  {
   "cell_type": "code",
   "execution_count": 52,
   "metadata": {},
   "outputs": [
    {
     "data": {
      "text/plain": [
       "序号                  3\n",
       "电影名             复仇啊复仇\n",
       "评分                6.5\n",
       "电影产地          电影产地：火星\n",
       "上映时间        上映时间：2055\n",
       "电影主演        电影主演：筷子兄弟\n",
       "豆瓣链接    https://5.com\n",
       "Name: 300, dtype: object"
      ]
     },
     "execution_count": 52,
     "metadata": {},
     "output_type": "execute_result"
    }
   ],
   "source": [
    "s"
   ]
  },
  {
   "cell_type": "code",
   "execution_count": 53,
   "metadata": {},
   "outputs": [
    {
     "data": {
      "text/html": [
       "<div>\n",
       "<style scoped>\n",
       "    .dataframe tbody tr th:only-of-type {\n",
       "        vertical-align: middle;\n",
       "    }\n",
       "\n",
       "    .dataframe tbody tr th {\n",
       "        vertical-align: top;\n",
       "    }\n",
       "\n",
       "    .dataframe thead th {\n",
       "        text-align: right;\n",
       "    }\n",
       "</style>\n",
       "<table border=\"1\" class=\"dataframe\">\n",
       "  <thead>\n",
       "    <tr style=\"text-align: right;\">\n",
       "      <th></th>\n",
       "      <th>序号</th>\n",
       "      <th>电影名</th>\n",
       "      <th>评分</th>\n",
       "      <th>电影产地</th>\n",
       "      <th>上映时间</th>\n",
       "      <th>电影主演</th>\n",
       "      <th>豆瓣链接</th>\n",
       "    </tr>\n",
       "  </thead>\n",
       "  <tbody>\n",
       "    <tr>\n",
       "      <th>296</th>\n",
       "      <td>297</td>\n",
       "      <td>我最好朋友的婚礼</td>\n",
       "      <td>4.3</td>\n",
       "      <td>电影产地： 中国大陆</td>\n",
       "      <td>上映时间：  2016</td>\n",
       "      <td>电影主演:  陈飞宏 , 舒淇 , 冯绍峰 , 宋茜</td>\n",
       "      <td>https://movie.douban.com/subject/26394441/?fro...</td>\n",
       "    </tr>\n",
       "    <tr>\n",
       "      <th>297</th>\n",
       "      <td>298</td>\n",
       "      <td>梦幻佳期</td>\n",
       "      <td>3.6</td>\n",
       "      <td>电影产地： 中国大陆</td>\n",
       "      <td>上映时间：  2015</td>\n",
       "      <td>电影主演:  王凯阳 , 闵春晓 , 张亚希 , 孙菂</td>\n",
       "      <td>https://movie.douban.com/subject/25911613/?fro...</td>\n",
       "    </tr>\n",
       "    <tr>\n",
       "      <th>298</th>\n",
       "      <td>299</td>\n",
       "      <td>夏至未至</td>\n",
       "      <td>0</td>\n",
       "      <td>电影产地： 中国大陆</td>\n",
       "      <td>上映时间：  2017</td>\n",
       "      <td>电影主演:  韩洋 , 陈学冬 , 郑爽 , 白敬亭</td>\n",
       "      <td>https://movie.douban.com/subject/26734684/?fro...</td>\n",
       "    </tr>\n",
       "    <tr>\n",
       "      <th>299</th>\n",
       "      <td>300</td>\n",
       "      <td>天生不对</td>\n",
       "      <td>0</td>\n",
       "      <td>电影产地： 中国大陆</td>\n",
       "      <td>上映时间：  2017</td>\n",
       "      <td>电影主演:  谷德昭 , 周渝民 , 薛凯琪 , 郑中基</td>\n",
       "      <td>https://movie.douban.com/subject/26696871/?fro...</td>\n",
       "    </tr>\n",
       "    <tr>\n",
       "      <th>300</th>\n",
       "      <td>3</td>\n",
       "      <td>复仇啊复仇</td>\n",
       "      <td>6.5</td>\n",
       "      <td>电影产地：火星</td>\n",
       "      <td>上映时间：2055</td>\n",
       "      <td>电影主演：筷子兄弟</td>\n",
       "      <td>https://5.com</td>\n",
       "    </tr>\n",
       "  </tbody>\n",
       "</table>\n",
       "</div>"
      ],
      "text/plain": [
       "      序号       电影名   评分         电影产地          上映时间  \\\n",
       "296  297  我最好朋友的婚礼  4.3  电影产地： 中国大陆   上映时间：  2016    \n",
       "297  298      梦幻佳期  3.6  电影产地： 中国大陆   上映时间：  2015    \n",
       "298  299      夏至未至    0  电影产地： 中国大陆   上映时间：  2017    \n",
       "299  300      天生不对    0  电影产地： 中国大陆   上映时间：  2017    \n",
       "300    3     复仇啊复仇  6.5      电影产地：火星     上映时间：2055   \n",
       "\n",
       "                             电影主演  \\\n",
       "296    电影主演:  陈飞宏 , 舒淇 , 冯绍峰 , 宋茜   \n",
       "297   电影主演:  王凯阳 , 闵春晓 , 张亚希 , 孙菂   \n",
       "298    电影主演:  韩洋 , 陈学冬 , 郑爽 , 白敬亭   \n",
       "299  电影主演:  谷德昭 , 周渝民 , 薛凯琪 , 郑中基   \n",
       "300                     电影主演：筷子兄弟   \n",
       "\n",
       "                                                  豆瓣链接  \n",
       "296  https://movie.douban.com/subject/26394441/?fro...  \n",
       "297  https://movie.douban.com/subject/25911613/?fro...  \n",
       "298  https://movie.douban.com/subject/26734684/?fro...  \n",
       "299  https://movie.douban.com/subject/26696871/?fro...  \n",
       "300                                      https://5.com  "
      ]
     },
     "execution_count": 53,
     "metadata": {},
     "output_type": "execute_result"
    }
   ],
   "source": [
    "df=df.append(s)\n",
    "df[-5:]"
   ]
  },
  {
   "cell_type": "code",
   "execution_count": 54,
   "metadata": {},
   "outputs": [
    {
     "data": {
      "text/html": [
       "<div>\n",
       "<style scoped>\n",
       "    .dataframe tbody tr th:only-of-type {\n",
       "        vertical-align: middle;\n",
       "    }\n",
       "\n",
       "    .dataframe tbody tr th {\n",
       "        vertical-align: top;\n",
       "    }\n",
       "\n",
       "    .dataframe thead th {\n",
       "        text-align: right;\n",
       "    }\n",
       "</style>\n",
       "<table border=\"1\" class=\"dataframe\">\n",
       "  <thead>\n",
       "    <tr style=\"text-align: right;\">\n",
       "      <th></th>\n",
       "      <th>序号</th>\n",
       "      <th>电影名</th>\n",
       "      <th>评分</th>\n",
       "      <th>电影产地</th>\n",
       "      <th>上映时间</th>\n",
       "      <th>电影主演</th>\n",
       "      <th>豆瓣链接</th>\n",
       "    </tr>\n",
       "  </thead>\n",
       "  <tbody>\n",
       "    <tr>\n",
       "      <th>295</th>\n",
       "      <td>296</td>\n",
       "      <td>冲上云霄 衝上雲霄</td>\n",
       "      <td>4.4</td>\n",
       "      <td>电影产地： 香港</td>\n",
       "      <td>上映时间：  2015</td>\n",
       "      <td>电影主演:  叶伟信 , 古天乐 , 郑秀文 , 吴镇宇</td>\n",
       "      <td>https://movie.douban.com/subject/7003416/?from...</td>\n",
       "    </tr>\n",
       "    <tr>\n",
       "      <th>296</th>\n",
       "      <td>297</td>\n",
       "      <td>我最好朋友的婚礼</td>\n",
       "      <td>4.3</td>\n",
       "      <td>电影产地： 中国大陆</td>\n",
       "      <td>上映时间：  2016</td>\n",
       "      <td>电影主演:  陈飞宏 , 舒淇 , 冯绍峰 , 宋茜</td>\n",
       "      <td>https://movie.douban.com/subject/26394441/?fro...</td>\n",
       "    </tr>\n",
       "    <tr>\n",
       "      <th>297</th>\n",
       "      <td>298</td>\n",
       "      <td>梦幻佳期</td>\n",
       "      <td>3.6</td>\n",
       "      <td>电影产地： 中国大陆</td>\n",
       "      <td>上映时间：  2015</td>\n",
       "      <td>电影主演:  王凯阳 , 闵春晓 , 张亚希 , 孙菂</td>\n",
       "      <td>https://movie.douban.com/subject/25911613/?fro...</td>\n",
       "    </tr>\n",
       "    <tr>\n",
       "      <th>298</th>\n",
       "      <td>299</td>\n",
       "      <td>夏至未至</td>\n",
       "      <td>0</td>\n",
       "      <td>电影产地： 中国大陆</td>\n",
       "      <td>上映时间：  2017</td>\n",
       "      <td>电影主演:  韩洋 , 陈学冬 , 郑爽 , 白敬亭</td>\n",
       "      <td>https://movie.douban.com/subject/26734684/?fro...</td>\n",
       "    </tr>\n",
       "    <tr>\n",
       "      <th>299</th>\n",
       "      <td>300</td>\n",
       "      <td>天生不对</td>\n",
       "      <td>0</td>\n",
       "      <td>电影产地： 中国大陆</td>\n",
       "      <td>上映时间：  2017</td>\n",
       "      <td>电影主演:  谷德昭 , 周渝民 , 薛凯琪 , 郑中基</td>\n",
       "      <td>https://movie.douban.com/subject/26696871/?fro...</td>\n",
       "    </tr>\n",
       "  </tbody>\n",
       "</table>\n",
       "</div>"
      ],
      "text/plain": [
       "      序号        电影名   评分         电影产地          上映时间  \\\n",
       "295  296  冲上云霄 衝上雲霄  4.4    电影产地： 香港   上映时间：  2015    \n",
       "296  297   我最好朋友的婚礼  4.3  电影产地： 中国大陆   上映时间：  2016    \n",
       "297  298       梦幻佳期  3.6  电影产地： 中国大陆   上映时间：  2015    \n",
       "298  299       夏至未至    0  电影产地： 中国大陆   上映时间：  2017    \n",
       "299  300       天生不对    0  电影产地： 中国大陆   上映时间：  2017    \n",
       "\n",
       "                             电影主演  \\\n",
       "295  电影主演:  叶伟信 , 古天乐 , 郑秀文 , 吴镇宇   \n",
       "296    电影主演:  陈飞宏 , 舒淇 , 冯绍峰 , 宋茜   \n",
       "297   电影主演:  王凯阳 , 闵春晓 , 张亚希 , 孙菂   \n",
       "298    电影主演:  韩洋 , 陈学冬 , 郑爽 , 白敬亭   \n",
       "299  电影主演:  谷德昭 , 周渝民 , 薛凯琪 , 郑中基   \n",
       "\n",
       "                                                  豆瓣链接  \n",
       "295  https://movie.douban.com/subject/7003416/?from...  \n",
       "296  https://movie.douban.com/subject/26394441/?fro...  \n",
       "297  https://movie.douban.com/subject/25911613/?fro...  \n",
       "298  https://movie.douban.com/subject/26734684/?fro...  \n",
       "299  https://movie.douban.com/subject/26696871/?fro...  "
      ]
     },
     "execution_count": 54,
     "metadata": {},
     "output_type": "execute_result"
    }
   ],
   "source": [
    "df=df.drop([300])\n",
    "df[-5:]"
   ]
  }
 ],
 "metadata": {
  "kernelspec": {
   "display_name": "Python 3",
   "language": "python",
   "name": "python3"
  },
  "language_info": {
   "codemirror_mode": {
    "name": "ipython",
    "version": 3
   },
   "file_extension": ".py",
   "mimetype": "text/x-python",
   "name": "python",
   "nbconvert_exporter": "python",
   "pygments_lexer": "ipython3",
   "version": "3.7.2"
  },
  "toc": {
   "base_numbering": 1,
   "nav_menu": {},
   "number_sections": true,
   "sideBar": true,
   "skip_h1_title": true,
   "title_cell": "Table of Contents",
   "title_sidebar": "Contents",
   "toc_cell": false,
   "toc_position": {
    "height": "calc(100% - 180px)",
    "left": "10px",
    "top": "150px",
    "width": "200px"
   },
   "toc_section_display": true,
   "toc_window_display": true
  }
 },
 "nbformat": 4,
 "nbformat_minor": 2
}
