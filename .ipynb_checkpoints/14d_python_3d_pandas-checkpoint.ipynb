{
 "cells": [
  {
   "cell_type": "markdown",
   "metadata": {},
   "source": [
    "# Pandas"
   ]
  },
  {
   "cell_type": "code",
   "execution_count": 1,
   "metadata": {},
   "outputs": [],
   "source": [
    "import pandas as pd\n",
    "import numpy as np"
   ]
  },
  {
   "cell_type": "markdown",
   "metadata": {},
   "source": [
    "## Series"
   ]
  },
  {
   "cell_type": "code",
   "execution_count": 2,
   "metadata": {},
   "outputs": [
    {
     "data": {
      "text/plain": [
       "0    1\n",
       "1    3\n",
       "2    5\n",
       "dtype: int64"
      ]
     },
     "execution_count": 2,
     "metadata": {},
     "output_type": "execute_result"
    }
   ],
   "source": [
    "s=pd.Series([1,3,5])\n",
    "s"
   ]
  },
  {
   "cell_type": "code",
   "execution_count": 3,
   "metadata": {},
   "outputs": [
    {
     "data": {
      "text/plain": [
       "0    1.0\n",
       "1    3.0\n",
       "2    5.0\n",
       "3    NaN\n",
       "4    6.0\n",
       "5    8.0\n",
       "dtype: float64"
      ]
     },
     "execution_count": 3,
     "metadata": {},
     "output_type": "execute_result"
    }
   ],
   "source": [
    "s=pd.Series([1,3,5,np.nan,6,8])\n",
    "s"
   ]
  },
  {
   "cell_type": "code",
   "execution_count": 4,
   "metadata": {},
   "outputs": [
    {
     "data": {
      "text/plain": [
       "RangeIndex(start=0, stop=6, step=1)"
      ]
     },
     "execution_count": 4,
     "metadata": {},
     "output_type": "execute_result"
    }
   ],
   "source": [
    "s.index"
   ]
  },
  {
   "cell_type": "code",
   "execution_count": 5,
   "metadata": {},
   "outputs": [
    {
     "data": {
      "text/plain": [
       "array([ 1.,  3.,  5., nan,  6.,  8.])"
      ]
     },
     "execution_count": 5,
     "metadata": {},
     "output_type": "execute_result"
    }
   ],
   "source": [
    "s.values"
   ]
  },
  {
   "cell_type": "code",
   "execution_count": 6,
   "metadata": {},
   "outputs": [
    {
     "data": {
      "text/plain": [
       "nan"
      ]
     },
     "execution_count": 6,
     "metadata": {},
     "output_type": "execute_result"
    }
   ],
   "source": [
    "s[3]"
   ]
  },
  {
   "cell_type": "code",
   "execution_count": 7,
   "metadata": {},
   "outputs": [
    {
     "data": {
      "text/plain": [
       "2    5.0\n",
       "3    NaN\n",
       "4    6.0\n",
       "dtype: float64"
      ]
     },
     "execution_count": 7,
     "metadata": {},
     "output_type": "execute_result"
    }
   ],
   "source": [
    "s[2:5]"
   ]
  },
  {
   "cell_type": "code",
   "execution_count": 8,
   "metadata": {},
   "outputs": [
    {
     "data": {
      "text/plain": [
       "0    1.0\n",
       "2    5.0\n",
       "4    6.0\n",
       "dtype: float64"
      ]
     },
     "execution_count": 8,
     "metadata": {},
     "output_type": "execute_result"
    }
   ],
   "source": [
    "s[::2]"
   ]
  },
  {
   "cell_type": "code",
   "execution_count": 9,
   "metadata": {},
   "outputs": [
    {
     "data": {
      "text/plain": [
       "索引\n",
       "0    1.0\n",
       "1    3.0\n",
       "2    5.0\n",
       "3    NaN\n",
       "4    6.0\n",
       "5    8.0\n",
       "dtype: float64"
      ]
     },
     "execution_count": 9,
     "metadata": {},
     "output_type": "execute_result"
    }
   ],
   "source": [
    "s.index.name='索引'\n",
    "s"
   ]
  },
  {
   "cell_type": "code",
   "execution_count": 10,
   "metadata": {},
   "outputs": [
    {
     "data": {
      "text/plain": [
       "a    1.0\n",
       "b    3.0\n",
       "c    5.0\n",
       "d    NaN\n",
       "e    6.0\n",
       "f    8.0\n",
       "dtype: float64"
      ]
     },
     "execution_count": 10,
     "metadata": {},
     "output_type": "execute_result"
    }
   ],
   "source": [
    "s.index=list('abcdef')\n",
    "s"
   ]
  },
  {
   "cell_type": "code",
   "execution_count": 11,
   "metadata": {},
   "outputs": [
    {
     "data": {
      "text/plain": [
       "a    1.0\n",
       "b    3.0\n",
       "c    5.0\n",
       "dtype: float64"
      ]
     },
     "execution_count": 11,
     "metadata": {},
     "output_type": "execute_result"
    }
   ],
   "source": [
    "s['a':'c']   #字符串切片，右边也是闭合"
   ]
  },
  {
   "cell_type": "markdown",
   "metadata": {},
   "source": [
    "## DataFrame"
   ]
  },
  {
   "cell_type": "code",
   "execution_count": 12,
   "metadata": {},
   "outputs": [
    {
     "name": "stdout",
     "output_type": "stream",
     "text": [
      "DatetimeIndex(['2018-01-01', '2018-01-02', '2018-01-03', '2018-01-04',\n",
      "               '2018-01-05', '2018-01-06'],\n",
      "              dtype='datetime64[ns]', freq='D')\n"
     ]
    }
   ],
   "source": [
    "date=pd.date_range('20180101',periods=6)\n",
    "print(date)"
   ]
  },
  {
   "cell_type": "code",
   "execution_count": 13,
   "metadata": {},
   "outputs": [
    {
     "data": {
      "text/html": [
       "<div>\n",
       "<style scoped>\n",
       "    .dataframe tbody tr th:only-of-type {\n",
       "        vertical-align: middle;\n",
       "    }\n",
       "\n",
       "    .dataframe tbody tr th {\n",
       "        vertical-align: top;\n",
       "    }\n",
       "\n",
       "    .dataframe thead th {\n",
       "        text-align: right;\n",
       "    }\n",
       "</style>\n",
       "<table border=\"1\" class=\"dataframe\">\n",
       "  <thead>\n",
       "    <tr style=\"text-align: right;\">\n",
       "      <th></th>\n",
       "      <th>0</th>\n",
       "      <th>1</th>\n",
       "      <th>2</th>\n",
       "      <th>3</th>\n",
       "    </tr>\n",
       "  </thead>\n",
       "  <tbody>\n",
       "    <tr>\n",
       "      <th>0</th>\n",
       "      <td>-0.671899</td>\n",
       "      <td>-1.380150</td>\n",
       "      <td>1.659883</td>\n",
       "      <td>-2.356434</td>\n",
       "    </tr>\n",
       "    <tr>\n",
       "      <th>1</th>\n",
       "      <td>0.183611</td>\n",
       "      <td>-0.099576</td>\n",
       "      <td>-0.425715</td>\n",
       "      <td>0.274825</td>\n",
       "    </tr>\n",
       "    <tr>\n",
       "      <th>2</th>\n",
       "      <td>-0.629016</td>\n",
       "      <td>-0.263493</td>\n",
       "      <td>1.138300</td>\n",
       "      <td>0.415917</td>\n",
       "    </tr>\n",
       "    <tr>\n",
       "      <th>3</th>\n",
       "      <td>1.304714</td>\n",
       "      <td>-0.110924</td>\n",
       "      <td>0.272209</td>\n",
       "      <td>0.044078</td>\n",
       "    </tr>\n",
       "    <tr>\n",
       "      <th>4</th>\n",
       "      <td>0.206200</td>\n",
       "      <td>-0.731535</td>\n",
       "      <td>0.874155</td>\n",
       "      <td>-0.556277</td>\n",
       "    </tr>\n",
       "    <tr>\n",
       "      <th>5</th>\n",
       "      <td>1.051329</td>\n",
       "      <td>0.418999</td>\n",
       "      <td>-0.036240</td>\n",
       "      <td>0.262612</td>\n",
       "    </tr>\n",
       "  </tbody>\n",
       "</table>\n",
       "</div>"
      ],
      "text/plain": [
       "          0         1         2         3\n",
       "0 -0.671899 -1.380150  1.659883 -2.356434\n",
       "1  0.183611 -0.099576 -0.425715  0.274825\n",
       "2 -0.629016 -0.263493  1.138300  0.415917\n",
       "3  1.304714 -0.110924  0.272209  0.044078\n",
       "4  0.206200 -0.731535  0.874155 -0.556277\n",
       "5  1.051329  0.418999 -0.036240  0.262612"
      ]
     },
     "execution_count": 13,
     "metadata": {},
     "output_type": "execute_result"
    }
   ],
   "source": [
    "df=pd.DataFrame(np.random.randn(6,4))   #二维数组来传入数据\n",
    "df"
   ]
  },
  {
   "cell_type": "code",
   "execution_count": 14,
   "metadata": {},
   "outputs": [
    {
     "data": {
      "text/html": [
       "<div>\n",
       "<style scoped>\n",
       "    .dataframe tbody tr th:only-of-type {\n",
       "        vertical-align: middle;\n",
       "    }\n",
       "\n",
       "    .dataframe tbody tr th {\n",
       "        vertical-align: top;\n",
       "    }\n",
       "\n",
       "    .dataframe thead th {\n",
       "        text-align: right;\n",
       "    }\n",
       "</style>\n",
       "<table border=\"1\" class=\"dataframe\">\n",
       "  <thead>\n",
       "    <tr style=\"text-align: right;\">\n",
       "      <th></th>\n",
       "      <th>A</th>\n",
       "      <th>B</th>\n",
       "      <th>C</th>\n",
       "      <th>D</th>\n",
       "    </tr>\n",
       "  </thead>\n",
       "  <tbody>\n",
       "    <tr>\n",
       "      <th>2018-01-01</th>\n",
       "      <td>-0.243927</td>\n",
       "      <td>-0.129275</td>\n",
       "      <td>0.670360</td>\n",
       "      <td>3.052623</td>\n",
       "    </tr>\n",
       "    <tr>\n",
       "      <th>2018-01-02</th>\n",
       "      <td>-1.043254</td>\n",
       "      <td>0.103604</td>\n",
       "      <td>1.816500</td>\n",
       "      <td>-0.898755</td>\n",
       "    </tr>\n",
       "    <tr>\n",
       "      <th>2018-01-03</th>\n",
       "      <td>0.731504</td>\n",
       "      <td>0.118222</td>\n",
       "      <td>0.204065</td>\n",
       "      <td>-0.044055</td>\n",
       "    </tr>\n",
       "    <tr>\n",
       "      <th>2018-01-04</th>\n",
       "      <td>0.032178</td>\n",
       "      <td>0.631919</td>\n",
       "      <td>1.579964</td>\n",
       "      <td>0.466997</td>\n",
       "    </tr>\n",
       "    <tr>\n",
       "      <th>2018-01-05</th>\n",
       "      <td>1.005184</td>\n",
       "      <td>-1.579976</td>\n",
       "      <td>-0.667096</td>\n",
       "      <td>1.060389</td>\n",
       "    </tr>\n",
       "    <tr>\n",
       "      <th>2018-01-06</th>\n",
       "      <td>-0.270906</td>\n",
       "      <td>1.657416</td>\n",
       "      <td>1.606676</td>\n",
       "      <td>-0.628475</td>\n",
       "    </tr>\n",
       "  </tbody>\n",
       "</table>\n",
       "</div>"
      ],
      "text/plain": [
       "                   A         B         C         D\n",
       "2018-01-01 -0.243927 -0.129275  0.670360  3.052623\n",
       "2018-01-02 -1.043254  0.103604  1.816500 -0.898755\n",
       "2018-01-03  0.731504  0.118222  0.204065 -0.044055\n",
       "2018-01-04  0.032178  0.631919  1.579964  0.466997\n",
       "2018-01-05  1.005184 -1.579976 -0.667096  1.060389\n",
       "2018-01-06 -0.270906  1.657416  1.606676 -0.628475"
      ]
     },
     "execution_count": 14,
     "metadata": {},
     "output_type": "execute_result"
    }
   ],
   "source": [
    "df=pd.DataFrame(np.random.randn(6,4),index=date,columns=list('ABCD'))   #指定行、列的索引\n",
    "df"
   ]
  },
  {
   "cell_type": "code",
   "execution_count": 15,
   "metadata": {},
   "outputs": [
    {
     "data": {
      "text/html": [
       "<div>\n",
       "<style scoped>\n",
       "    .dataframe tbody tr th:only-of-type {\n",
       "        vertical-align: middle;\n",
       "    }\n",
       "\n",
       "    .dataframe tbody tr th {\n",
       "        vertical-align: top;\n",
       "    }\n",
       "\n",
       "    .dataframe thead th {\n",
       "        text-align: right;\n",
       "    }\n",
       "</style>\n",
       "<table border=\"1\" class=\"dataframe\">\n",
       "  <thead>\n",
       "    <tr style=\"text-align: right;\">\n",
       "      <th></th>\n",
       "      <th>A</th>\n",
       "      <th>B</th>\n",
       "      <th>C</th>\n",
       "      <th>D</th>\n",
       "      <th>E</th>\n",
       "      <th>F</th>\n",
       "    </tr>\n",
       "  </thead>\n",
       "  <tbody>\n",
       "    <tr>\n",
       "      <th>0</th>\n",
       "      <td>1.0</td>\n",
       "      <td>2018-10-01</td>\n",
       "      <td>1.0</td>\n",
       "      <td>3</td>\n",
       "      <td>test</td>\n",
       "      <td>abc</td>\n",
       "    </tr>\n",
       "    <tr>\n",
       "      <th>1</th>\n",
       "      <td>1.0</td>\n",
       "      <td>2018-10-01</td>\n",
       "      <td>1.0</td>\n",
       "      <td>3</td>\n",
       "      <td>train</td>\n",
       "      <td>abc</td>\n",
       "    </tr>\n",
       "    <tr>\n",
       "      <th>2</th>\n",
       "      <td>1.0</td>\n",
       "      <td>2018-10-01</td>\n",
       "      <td>1.0</td>\n",
       "      <td>3</td>\n",
       "      <td>test</td>\n",
       "      <td>abc</td>\n",
       "    </tr>\n",
       "    <tr>\n",
       "      <th>3</th>\n",
       "      <td>1.0</td>\n",
       "      <td>2018-10-01</td>\n",
       "      <td>1.0</td>\n",
       "      <td>3</td>\n",
       "      <td>train</td>\n",
       "      <td>abc</td>\n",
       "    </tr>\n",
       "  </tbody>\n",
       "</table>\n",
       "</div>"
      ],
      "text/plain": [
       "     A          B    C  D      E    F\n",
       "0  1.0 2018-10-01  1.0  3   test  abc\n",
       "1  1.0 2018-10-01  1.0  3  train  abc\n",
       "2  1.0 2018-10-01  1.0  3   test  abc\n",
       "3  1.0 2018-10-01  1.0  3  train  abc"
      ]
     },
     "execution_count": 15,
     "metadata": {},
     "output_type": "execute_result"
    }
   ],
   "source": [
    "df2=pd.DataFrame({'A':1.,'B':pd.Timestamp('20181001'),'C':pd.Series(1,index=list(range(4)),dtype=float),'D':np.array([3]*4,dtype=int),'E':pd.Categorical(['test','train','test','train']),'F':'abc'})\n",
    "df2"
   ]
  },
  {
   "cell_type": "markdown",
   "metadata": {},
   "source": [
    "## 查看数据"
   ]
  },
  {
   "cell_type": "code",
   "execution_count": 16,
   "metadata": {},
   "outputs": [
    {
     "data": {
      "text/html": [
       "<div>\n",
       "<style scoped>\n",
       "    .dataframe tbody tr th:only-of-type {\n",
       "        vertical-align: middle;\n",
       "    }\n",
       "\n",
       "    .dataframe tbody tr th {\n",
       "        vertical-align: top;\n",
       "    }\n",
       "\n",
       "    .dataframe thead th {\n",
       "        text-align: right;\n",
       "    }\n",
       "</style>\n",
       "<table border=\"1\" class=\"dataframe\">\n",
       "  <thead>\n",
       "    <tr style=\"text-align: right;\">\n",
       "      <th></th>\n",
       "      <th>A</th>\n",
       "      <th>B</th>\n",
       "      <th>C</th>\n",
       "      <th>D</th>\n",
       "    </tr>\n",
       "  </thead>\n",
       "  <tbody>\n",
       "    <tr>\n",
       "      <th>2018-01-01</th>\n",
       "      <td>-0.243927</td>\n",
       "      <td>-0.129275</td>\n",
       "      <td>0.670360</td>\n",
       "      <td>3.052623</td>\n",
       "    </tr>\n",
       "    <tr>\n",
       "      <th>2018-01-02</th>\n",
       "      <td>-1.043254</td>\n",
       "      <td>0.103604</td>\n",
       "      <td>1.816500</td>\n",
       "      <td>-0.898755</td>\n",
       "    </tr>\n",
       "    <tr>\n",
       "      <th>2018-01-03</th>\n",
       "      <td>0.731504</td>\n",
       "      <td>0.118222</td>\n",
       "      <td>0.204065</td>\n",
       "      <td>-0.044055</td>\n",
       "    </tr>\n",
       "    <tr>\n",
       "      <th>2018-01-04</th>\n",
       "      <td>0.032178</td>\n",
       "      <td>0.631919</td>\n",
       "      <td>1.579964</td>\n",
       "      <td>0.466997</td>\n",
       "    </tr>\n",
       "    <tr>\n",
       "      <th>2018-01-05</th>\n",
       "      <td>1.005184</td>\n",
       "      <td>-1.579976</td>\n",
       "      <td>-0.667096</td>\n",
       "      <td>1.060389</td>\n",
       "    </tr>\n",
       "  </tbody>\n",
       "</table>\n",
       "</div>"
      ],
      "text/plain": [
       "                   A         B         C         D\n",
       "2018-01-01 -0.243927 -0.129275  0.670360  3.052623\n",
       "2018-01-02 -1.043254  0.103604  1.816500 -0.898755\n",
       "2018-01-03  0.731504  0.118222  0.204065 -0.044055\n",
       "2018-01-04  0.032178  0.631919  1.579964  0.466997\n",
       "2018-01-05  1.005184 -1.579976 -0.667096  1.060389"
      ]
     },
     "execution_count": 16,
     "metadata": {},
     "output_type": "execute_result"
    }
   ],
   "source": [
    "df.head()"
   ]
  },
  {
   "cell_type": "code",
   "execution_count": 17,
   "metadata": {},
   "outputs": [
    {
     "data": {
      "text/html": [
       "<div>\n",
       "<style scoped>\n",
       "    .dataframe tbody tr th:only-of-type {\n",
       "        vertical-align: middle;\n",
       "    }\n",
       "\n",
       "    .dataframe tbody tr th {\n",
       "        vertical-align: top;\n",
       "    }\n",
       "\n",
       "    .dataframe thead th {\n",
       "        text-align: right;\n",
       "    }\n",
       "</style>\n",
       "<table border=\"1\" class=\"dataframe\">\n",
       "  <thead>\n",
       "    <tr style=\"text-align: right;\">\n",
       "      <th></th>\n",
       "      <th>A</th>\n",
       "      <th>B</th>\n",
       "      <th>C</th>\n",
       "      <th>D</th>\n",
       "    </tr>\n",
       "  </thead>\n",
       "  <tbody>\n",
       "    <tr>\n",
       "      <th>2018-01-04</th>\n",
       "      <td>0.032178</td>\n",
       "      <td>0.631919</td>\n",
       "      <td>1.579964</td>\n",
       "      <td>0.466997</td>\n",
       "    </tr>\n",
       "    <tr>\n",
       "      <th>2018-01-05</th>\n",
       "      <td>1.005184</td>\n",
       "      <td>-1.579976</td>\n",
       "      <td>-0.667096</td>\n",
       "      <td>1.060389</td>\n",
       "    </tr>\n",
       "    <tr>\n",
       "      <th>2018-01-06</th>\n",
       "      <td>-0.270906</td>\n",
       "      <td>1.657416</td>\n",
       "      <td>1.606676</td>\n",
       "      <td>-0.628475</td>\n",
       "    </tr>\n",
       "  </tbody>\n",
       "</table>\n",
       "</div>"
      ],
      "text/plain": [
       "                   A         B         C         D\n",
       "2018-01-04  0.032178  0.631919  1.579964  0.466997\n",
       "2018-01-05  1.005184 -1.579976 -0.667096  1.060389\n",
       "2018-01-06 -0.270906  1.657416  1.606676 -0.628475"
      ]
     },
     "execution_count": 17,
     "metadata": {},
     "output_type": "execute_result"
    }
   ],
   "source": [
    "df.tail(3)"
   ]
  },
  {
   "cell_type": "code",
   "execution_count": 18,
   "metadata": {},
   "outputs": [
    {
     "data": {
      "text/plain": [
       "DatetimeIndex(['2018-01-01', '2018-01-02', '2018-01-03', '2018-01-04',\n",
       "               '2018-01-05', '2018-01-06'],\n",
       "              dtype='datetime64[ns]', freq='D')"
      ]
     },
     "execution_count": 18,
     "metadata": {},
     "output_type": "execute_result"
    }
   ],
   "source": [
    "df.index   #查看行标签"
   ]
  },
  {
   "cell_type": "code",
   "execution_count": 19,
   "metadata": {},
   "outputs": [
    {
     "data": {
      "text/plain": [
       "Index(['A', 'B', 'C', 'D'], dtype='object')"
      ]
     },
     "execution_count": 19,
     "metadata": {},
     "output_type": "execute_result"
    }
   ],
   "source": [
    "df.columns   #查看列标签值"
   ]
  },
  {
   "cell_type": "markdown",
   "metadata": {},
   "source": [
    "## 读取与操作数据"
   ]
  },
  {
   "cell_type": "code",
   "execution_count": 20,
   "metadata": {},
   "outputs": [],
   "source": [
    "df=pd.read_excel(r'material/movie-list.xlsx')   #r 表示不需要转义"
   ]
  },
  {
   "cell_type": "code",
   "execution_count": 21,
   "metadata": {},
   "outputs": [
    {
     "data": {
      "text/html": [
       "<div>\n",
       "<style scoped>\n",
       "    .dataframe tbody tr th:only-of-type {\n",
       "        vertical-align: middle;\n",
       "    }\n",
       "\n",
       "    .dataframe tbody tr th {\n",
       "        vertical-align: top;\n",
       "    }\n",
       "\n",
       "    .dataframe thead th {\n",
       "        text-align: right;\n",
       "    }\n",
       "</style>\n",
       "<table border=\"1\" class=\"dataframe\">\n",
       "  <thead>\n",
       "    <tr style=\"text-align: right;\">\n",
       "      <th></th>\n",
       "      <th>序号</th>\n",
       "      <th>电影名</th>\n",
       "      <th>评分</th>\n",
       "      <th>电影产地</th>\n",
       "      <th>上映时间</th>\n",
       "      <th>电影主演</th>\n",
       "      <th>豆瓣链接</th>\n",
       "    </tr>\n",
       "  </thead>\n",
       "  <tbody>\n",
       "    <tr>\n",
       "      <th>163</th>\n",
       "      <td>164</td>\n",
       "      <td>圣剑天骄</td>\n",
       "      <td>0.0</td>\n",
       "      <td>电影产地： 香港</td>\n",
       "      <td>上映时间：  1986</td>\n",
       "      <td>电影主演:  鞠觉亮 , 刘德华 , 张卫健 , 庄静而</td>\n",
       "      <td>https://movie.douban.com/subject/19945745/?fro...</td>\n",
       "    </tr>\n",
       "    <tr>\n",
       "      <th>164</th>\n",
       "      <td>165</td>\n",
       "      <td>追龙 追龍</td>\n",
       "      <td>0.0</td>\n",
       "      <td>电影产地： 香港</td>\n",
       "      <td>上映时间：  2018</td>\n",
       "      <td>电影主演:  王晶 , 甄子丹 , 刘德华 , 郑则仕</td>\n",
       "      <td>https://movie.douban.com/subject/26425068/?fro...</td>\n",
       "    </tr>\n",
       "    <tr>\n",
       "      <th>165</th>\n",
       "      <td>166</td>\n",
       "      <td>神犬小七 第三季</td>\n",
       "      <td>0.0</td>\n",
       "      <td>电影产地： 中国大陆</td>\n",
       "      <td>上映时间：  2017</td>\n",
       "      <td>电影主演:  袁晓满 , 姜潮 , 宋妍霏 , 王洋</td>\n",
       "      <td>https://movie.douban.com/subject/26910950/?fro...</td>\n",
       "    </tr>\n",
       "    <tr>\n",
       "      <th>166</th>\n",
       "      <td>167</td>\n",
       "      <td>热血合唱团 熱血合唱團</td>\n",
       "      <td>0.0</td>\n",
       "      <td>电影产地： 香港</td>\n",
       "      <td>上映时间： 香港</td>\n",
       "      <td>电影主演:  剧情 , 2017 , 关信辉 , 刘德华</td>\n",
       "      <td>https://movie.douban.com/subject/26991880/?fro...</td>\n",
       "    </tr>\n",
       "    <tr>\n",
       "      <th>167</th>\n",
       "      <td>168</td>\n",
       "      <td>鼓舞</td>\n",
       "      <td>0.0</td>\n",
       "      <td>电影产地： 香港</td>\n",
       "      <td>上映时间： 暂无</td>\n",
       "      <td>电影主演: 香港 , 1985 , 刘德华 , 毛舜筠</td>\n",
       "      <td>https://movie.douban.com/subject/3408346/?from...</td>\n",
       "    </tr>\n",
       "  </tbody>\n",
       "</table>\n",
       "</div>"
      ],
      "text/plain": [
       "      序号          电影名   评分         电影产地          上映时间  \\\n",
       "163  164         圣剑天骄  0.0    电影产地： 香港   上映时间：  1986    \n",
       "164  165        追龙 追龍  0.0    电影产地： 香港   上映时间：  2018    \n",
       "165  166     神犬小七 第三季  0.0  电影产地： 中国大陆   上映时间：  2017    \n",
       "166  167  热血合唱团 熱血合唱團  0.0    电影产地： 香港      上映时间： 香港    \n",
       "167  168           鼓舞  0.0    电影产地： 香港       上映时间： 暂无   \n",
       "\n",
       "                             电影主演  \\\n",
       "163  电影主演:  鞠觉亮 , 刘德华 , 张卫健 , 庄静而   \n",
       "164   电影主演:  王晶 , 甄子丹 , 刘德华 , 郑则仕   \n",
       "165    电影主演:  袁晓满 , 姜潮 , 宋妍霏 , 王洋   \n",
       "166  电影主演:  剧情 , 2017 , 关信辉 , 刘德华   \n",
       "167   电影主演: 香港 , 1985 , 刘德华 , 毛舜筠   \n",
       "\n",
       "                                                  豆瓣链接  \n",
       "163  https://movie.douban.com/subject/19945745/?fro...  \n",
       "164  https://movie.douban.com/subject/26425068/?fro...  \n",
       "165  https://movie.douban.com/subject/26910950/?fro...  \n",
       "166  https://movie.douban.com/subject/26991880/?fro...  \n",
       "167  https://movie.douban.com/subject/3408346/?from...  "
      ]
     },
     "execution_count": 21,
     "metadata": {},
     "output_type": "execute_result"
    }
   ],
   "source": [
    "df.tail(5)"
   ]
  },
  {
   "cell_type": "code",
   "execution_count": 22,
   "metadata": {},
   "outputs": [
    {
     "data": {
      "text/plain": [
       "序号                                                      1\n",
       "电影名                                           星星同学会 星星同學會\n",
       "评分                                                    8.9\n",
       "电影产地                                            电影产地： 香港 \n",
       "上映时间                                          上映时间：  脱口秀 \n",
       "电影主演                        电影主演:  2009 , 杨家宝 , 吴君如 , 钱嘉乐\n",
       "豆瓣链接    https://movie.douban.com/subject/26426069/?fro...\n",
       "Name: 0, dtype: object"
      ]
     },
     "execution_count": 22,
     "metadata": {},
     "output_type": "execute_result"
    }
   ],
   "source": [
    "df.iloc[0]"
   ]
  },
  {
   "cell_type": "code",
   "execution_count": 23,
   "metadata": {},
   "outputs": [
    {
     "data": {
      "text/html": [
       "<div>\n",
       "<style scoped>\n",
       "    .dataframe tbody tr th:only-of-type {\n",
       "        vertical-align: middle;\n",
       "    }\n",
       "\n",
       "    .dataframe tbody tr th {\n",
       "        vertical-align: top;\n",
       "    }\n",
       "\n",
       "    .dataframe thead th {\n",
       "        text-align: right;\n",
       "    }\n",
       "</style>\n",
       "<table border=\"1\" class=\"dataframe\">\n",
       "  <thead>\n",
       "    <tr style=\"text-align: right;\">\n",
       "      <th></th>\n",
       "      <th>序号</th>\n",
       "      <th>电影名</th>\n",
       "      <th>评分</th>\n",
       "      <th>电影产地</th>\n",
       "      <th>上映时间</th>\n",
       "      <th>电影主演</th>\n",
       "      <th>豆瓣链接</th>\n",
       "    </tr>\n",
       "  </thead>\n",
       "  <tbody>\n",
       "    <tr>\n",
       "      <th>0</th>\n",
       "      <td>1</td>\n",
       "      <td>星星同学会 星星同學會</td>\n",
       "      <td>8.9</td>\n",
       "      <td>电影产地： 香港</td>\n",
       "      <td>上映时间：  脱口秀</td>\n",
       "      <td>电影主演:  2009 , 杨家宝 , 吴君如 , 钱嘉乐</td>\n",
       "      <td>https://movie.douban.com/subject/26426069/?fro...</td>\n",
       "    </tr>\n",
       "    <tr>\n",
       "      <th>1</th>\n",
       "      <td>2</td>\n",
       "      <td>无间道(正序版)</td>\n",
       "      <td>8.7</td>\n",
       "      <td>电影产地： 香港</td>\n",
       "      <td>上映时间：  2006</td>\n",
       "      <td>电影主演:  刘伟强 , 刘德华 , 梁朝伟 , 黎明</td>\n",
       "      <td>https://movie.douban.com/subject/4860078/?from...</td>\n",
       "    </tr>\n",
       "    <tr>\n",
       "      <th>2</th>\n",
       "      <td>3</td>\n",
       "      <td>暗战 暗戰</td>\n",
       "      <td>8.4</td>\n",
       "      <td>电影产地： 香港</td>\n",
       "      <td>上映时间：  1999</td>\n",
       "      <td>电影主演:  杜琪峰 , 刘德华 , 刘青云 , 蒙嘉慧</td>\n",
       "      <td>https://movie.douban.com/subject/1298898/?from...</td>\n",
       "    </tr>\n",
       "    <tr>\n",
       "      <th>3</th>\n",
       "      <td>4</td>\n",
       "      <td>异域 異域</td>\n",
       "      <td>8.3</td>\n",
       "      <td>电影产地： 台湾</td>\n",
       "      <td>上映时间：  1990</td>\n",
       "      <td>电影主演:  朱延平 , 庹宗华 , 刘德华 , 郎雄</td>\n",
       "      <td>https://movie.douban.com/subject/1307756/?from...</td>\n",
       "    </tr>\n",
       "    <tr>\n",
       "      <th>4</th>\n",
       "      <td>5</td>\n",
       "      <td>金鸡</td>\n",
       "      <td>8.1</td>\n",
       "      <td>电影产地： 香港</td>\n",
       "      <td>上映时间：  2002</td>\n",
       "      <td>电影主演:  赵良骏 , 吴君如 , 曾志伟 , 陈奕迅</td>\n",
       "      <td>https://movie.douban.com/subject/1303630/?from...</td>\n",
       "    </tr>\n",
       "  </tbody>\n",
       "</table>\n",
       "</div>"
      ],
      "text/plain": [
       "   序号          电影名   评分       电影产地          上映时间  \\\n",
       "0   1  星星同学会 星星同學會  8.9  电影产地： 香港    上映时间：  脱口秀    \n",
       "1   2     无间道(正序版)  8.7  电影产地： 香港   上映时间：  2006    \n",
       "2   3        暗战 暗戰  8.4  电影产地： 香港   上映时间：  1999    \n",
       "3   4        异域 異域  8.3  电影产地： 台湾   上映时间：  1990    \n",
       "4   5           金鸡  8.1  电影产地： 香港   上映时间：  2002    \n",
       "\n",
       "                            电影主演  \\\n",
       "0  电影主演:  2009 , 杨家宝 , 吴君如 , 钱嘉乐   \n",
       "1    电影主演:  刘伟强 , 刘德华 , 梁朝伟 , 黎明   \n",
       "2   电影主演:  杜琪峰 , 刘德华 , 刘青云 , 蒙嘉慧   \n",
       "3    电影主演:  朱延平 , 庹宗华 , 刘德华 , 郎雄   \n",
       "4   电影主演:  赵良骏 , 吴君如 , 曾志伟 , 陈奕迅   \n",
       "\n",
       "                                                豆瓣链接  \n",
       "0  https://movie.douban.com/subject/26426069/?fro...  \n",
       "1  https://movie.douban.com/subject/4860078/?from...  \n",
       "2  https://movie.douban.com/subject/1298898/?from...  \n",
       "3  https://movie.douban.com/subject/1307756/?from...  \n",
       "4  https://movie.douban.com/subject/1303630/?from...  "
      ]
     },
     "execution_count": 23,
     "metadata": {},
     "output_type": "execute_result"
    }
   ],
   "source": [
    "df.iloc[0:5]"
   ]
  },
  {
   "cell_type": "code",
   "execution_count": 24,
   "metadata": {},
   "outputs": [
    {
     "data": {
      "text/html": [
       "<div>\n",
       "<style scoped>\n",
       "    .dataframe tbody tr th:only-of-type {\n",
       "        vertical-align: middle;\n",
       "    }\n",
       "\n",
       "    .dataframe tbody tr th {\n",
       "        vertical-align: top;\n",
       "    }\n",
       "\n",
       "    .dataframe thead th {\n",
       "        text-align: right;\n",
       "    }\n",
       "</style>\n",
       "<table border=\"1\" class=\"dataframe\">\n",
       "  <thead>\n",
       "    <tr style=\"text-align: right;\">\n",
       "      <th></th>\n",
       "      <th>序号</th>\n",
       "      <th>电影名</th>\n",
       "      <th>评分</th>\n",
       "      <th>电影产地</th>\n",
       "      <th>上映时间</th>\n",
       "      <th>电影主演</th>\n",
       "      <th>豆瓣链接</th>\n",
       "    </tr>\n",
       "  </thead>\n",
       "  <tbody>\n",
       "    <tr>\n",
       "      <th>0</th>\n",
       "      <td>1</td>\n",
       "      <td>星星同学会 星星同學會</td>\n",
       "      <td>8.9</td>\n",
       "      <td>电影产地： 香港</td>\n",
       "      <td>上映时间：  脱口秀</td>\n",
       "      <td>电影主演:  2009 , 杨家宝 , 吴君如 , 钱嘉乐</td>\n",
       "      <td>https://movie.douban.com/subject/26426069/?fro...</td>\n",
       "    </tr>\n",
       "    <tr>\n",
       "      <th>1</th>\n",
       "      <td>2</td>\n",
       "      <td>无间道(正序版)</td>\n",
       "      <td>8.7</td>\n",
       "      <td>电影产地： 香港</td>\n",
       "      <td>上映时间：  2006</td>\n",
       "      <td>电影主演:  刘伟强 , 刘德华 , 梁朝伟 , 黎明</td>\n",
       "      <td>https://movie.douban.com/subject/4860078/?from...</td>\n",
       "    </tr>\n",
       "    <tr>\n",
       "      <th>2</th>\n",
       "      <td>3</td>\n",
       "      <td>暗战 暗戰</td>\n",
       "      <td>8.4</td>\n",
       "      <td>电影产地： 香港</td>\n",
       "      <td>上映时间：  1999</td>\n",
       "      <td>电影主演:  杜琪峰 , 刘德华 , 刘青云 , 蒙嘉慧</td>\n",
       "      <td>https://movie.douban.com/subject/1298898/?from...</td>\n",
       "    </tr>\n",
       "    <tr>\n",
       "      <th>3</th>\n",
       "      <td>4</td>\n",
       "      <td>异域 異域</td>\n",
       "      <td>8.3</td>\n",
       "      <td>电影产地： 台湾</td>\n",
       "      <td>上映时间：  1990</td>\n",
       "      <td>电影主演:  朱延平 , 庹宗华 , 刘德华 , 郎雄</td>\n",
       "      <td>https://movie.douban.com/subject/1307756/?from...</td>\n",
       "    </tr>\n",
       "    <tr>\n",
       "      <th>4</th>\n",
       "      <td>5</td>\n",
       "      <td>金鸡</td>\n",
       "      <td>8.1</td>\n",
       "      <td>电影产地： 香港</td>\n",
       "      <td>上映时间：  2002</td>\n",
       "      <td>电影主演:  赵良骏 , 吴君如 , 曾志伟 , 陈奕迅</td>\n",
       "      <td>https://movie.douban.com/subject/1303630/?from...</td>\n",
       "    </tr>\n",
       "    <tr>\n",
       "      <th>5</th>\n",
       "      <td>6</td>\n",
       "      <td>爱在阳光下 愛在陽光下</td>\n",
       "      <td>8.1</td>\n",
       "      <td>电影产地： 香港</td>\n",
       "      <td>上映时间：  2003</td>\n",
       "      <td>电影主演:  刘德华 , 刘德华 , 郑秀文 , 林子祥</td>\n",
       "      <td>https://movie.douban.com/subject/3798935/?from...</td>\n",
       "    </tr>\n",
       "  </tbody>\n",
       "</table>\n",
       "</div>"
      ],
      "text/plain": [
       "   序号          电影名   评分       电影产地          上映时间  \\\n",
       "0   1  星星同学会 星星同學會  8.9  电影产地： 香港    上映时间：  脱口秀    \n",
       "1   2     无间道(正序版)  8.7  电影产地： 香港   上映时间：  2006    \n",
       "2   3        暗战 暗戰  8.4  电影产地： 香港   上映时间：  1999    \n",
       "3   4        异域 異域  8.3  电影产地： 台湾   上映时间：  1990    \n",
       "4   5           金鸡  8.1  电影产地： 香港   上映时间：  2002    \n",
       "5   6  爱在阳光下 愛在陽光下  8.1  电影产地： 香港   上映时间：  2003    \n",
       "\n",
       "                            电影主演  \\\n",
       "0  电影主演:  2009 , 杨家宝 , 吴君如 , 钱嘉乐   \n",
       "1    电影主演:  刘伟强 , 刘德华 , 梁朝伟 , 黎明   \n",
       "2   电影主演:  杜琪峰 , 刘德华 , 刘青云 , 蒙嘉慧   \n",
       "3    电影主演:  朱延平 , 庹宗华 , 刘德华 , 郎雄   \n",
       "4   电影主演:  赵良骏 , 吴君如 , 曾志伟 , 陈奕迅   \n",
       "5   电影主演:  刘德华 , 刘德华 , 郑秀文 , 林子祥   \n",
       "\n",
       "                                                豆瓣链接  \n",
       "0  https://movie.douban.com/subject/26426069/?fro...  \n",
       "1  https://movie.douban.com/subject/4860078/?from...  \n",
       "2  https://movie.douban.com/subject/1298898/?from...  \n",
       "3  https://movie.douban.com/subject/1307756/?from...  \n",
       "4  https://movie.douban.com/subject/1303630/?from...  \n",
       "5  https://movie.douban.com/subject/3798935/?from...  "
      ]
     },
     "execution_count": 24,
     "metadata": {},
     "output_type": "execute_result"
    }
   ],
   "source": [
    "df.loc[0:5]  #比iloc多一行"
   ]
  },
  {
   "cell_type": "code",
   "execution_count": 25,
   "metadata": {},
   "outputs": [],
   "source": [
    "dit={'序号':'3','电影名':'复仇啊复仇','评分':'6.5','电影产地':'电影产地：火星','上映时间':'上映时间：2055','电影主演':'电影主演：筷子兄弟','豆瓣链接':'https://5.com'}\n",
    "s=pd.Series(dit)\n",
    "s.name=300"
   ]
  },
  {
   "cell_type": "code",
   "execution_count": 26,
   "metadata": {},
   "outputs": [
    {
     "data": {
      "text/plain": [
       "序号                  3\n",
       "电影名             复仇啊复仇\n",
       "评分                6.5\n",
       "电影产地          电影产地：火星\n",
       "上映时间        上映时间：2055\n",
       "电影主演        电影主演：筷子兄弟\n",
       "豆瓣链接    https://5.com\n",
       "Name: 300, dtype: object"
      ]
     },
     "execution_count": 26,
     "metadata": {},
     "output_type": "execute_result"
    }
   ],
   "source": [
    "s"
   ]
  },
  {
   "cell_type": "code",
   "execution_count": 27,
   "metadata": {},
   "outputs": [
    {
     "data": {
      "text/html": [
       "<div>\n",
       "<style scoped>\n",
       "    .dataframe tbody tr th:only-of-type {\n",
       "        vertical-align: middle;\n",
       "    }\n",
       "\n",
       "    .dataframe tbody tr th {\n",
       "        vertical-align: top;\n",
       "    }\n",
       "\n",
       "    .dataframe thead th {\n",
       "        text-align: right;\n",
       "    }\n",
       "</style>\n",
       "<table border=\"1\" class=\"dataframe\">\n",
       "  <thead>\n",
       "    <tr style=\"text-align: right;\">\n",
       "      <th></th>\n",
       "      <th>序号</th>\n",
       "      <th>电影名</th>\n",
       "      <th>评分</th>\n",
       "      <th>电影产地</th>\n",
       "      <th>上映时间</th>\n",
       "      <th>电影主演</th>\n",
       "      <th>豆瓣链接</th>\n",
       "    </tr>\n",
       "  </thead>\n",
       "  <tbody>\n",
       "    <tr>\n",
       "      <th>164</th>\n",
       "      <td>165</td>\n",
       "      <td>追龙 追龍</td>\n",
       "      <td>0</td>\n",
       "      <td>电影产地： 香港</td>\n",
       "      <td>上映时间：  2018</td>\n",
       "      <td>电影主演:  王晶 , 甄子丹 , 刘德华 , 郑则仕</td>\n",
       "      <td>https://movie.douban.com/subject/26425068/?fro...</td>\n",
       "    </tr>\n",
       "    <tr>\n",
       "      <th>165</th>\n",
       "      <td>166</td>\n",
       "      <td>神犬小七 第三季</td>\n",
       "      <td>0</td>\n",
       "      <td>电影产地： 中国大陆</td>\n",
       "      <td>上映时间：  2017</td>\n",
       "      <td>电影主演:  袁晓满 , 姜潮 , 宋妍霏 , 王洋</td>\n",
       "      <td>https://movie.douban.com/subject/26910950/?fro...</td>\n",
       "    </tr>\n",
       "    <tr>\n",
       "      <th>166</th>\n",
       "      <td>167</td>\n",
       "      <td>热血合唱团 熱血合唱團</td>\n",
       "      <td>0</td>\n",
       "      <td>电影产地： 香港</td>\n",
       "      <td>上映时间： 香港</td>\n",
       "      <td>电影主演:  剧情 , 2017 , 关信辉 , 刘德华</td>\n",
       "      <td>https://movie.douban.com/subject/26991880/?fro...</td>\n",
       "    </tr>\n",
       "    <tr>\n",
       "      <th>167</th>\n",
       "      <td>168</td>\n",
       "      <td>鼓舞</td>\n",
       "      <td>0</td>\n",
       "      <td>电影产地： 香港</td>\n",
       "      <td>上映时间： 暂无</td>\n",
       "      <td>电影主演: 香港 , 1985 , 刘德华 , 毛舜筠</td>\n",
       "      <td>https://movie.douban.com/subject/3408346/?from...</td>\n",
       "    </tr>\n",
       "    <tr>\n",
       "      <th>300</th>\n",
       "      <td>3</td>\n",
       "      <td>复仇啊复仇</td>\n",
       "      <td>6.5</td>\n",
       "      <td>电影产地：火星</td>\n",
       "      <td>上映时间：2055</td>\n",
       "      <td>电影主演：筷子兄弟</td>\n",
       "      <td>https://5.com</td>\n",
       "    </tr>\n",
       "  </tbody>\n",
       "</table>\n",
       "</div>"
      ],
      "text/plain": [
       "      序号          电影名   评分         电影产地          上映时间  \\\n",
       "164  165        追龙 追龍    0    电影产地： 香港   上映时间：  2018    \n",
       "165  166     神犬小七 第三季    0  电影产地： 中国大陆   上映时间：  2017    \n",
       "166  167  热血合唱团 熱血合唱團    0    电影产地： 香港      上映时间： 香港    \n",
       "167  168           鼓舞    0    电影产地： 香港       上映时间： 暂无   \n",
       "300    3        复仇啊复仇  6.5      电影产地：火星     上映时间：2055   \n",
       "\n",
       "                             电影主演  \\\n",
       "164   电影主演:  王晶 , 甄子丹 , 刘德华 , 郑则仕   \n",
       "165    电影主演:  袁晓满 , 姜潮 , 宋妍霏 , 王洋   \n",
       "166  电影主演:  剧情 , 2017 , 关信辉 , 刘德华   \n",
       "167   电影主演: 香港 , 1985 , 刘德华 , 毛舜筠   \n",
       "300                     电影主演：筷子兄弟   \n",
       "\n",
       "                                                  豆瓣链接  \n",
       "164  https://movie.douban.com/subject/26425068/?fro...  \n",
       "165  https://movie.douban.com/subject/26910950/?fro...  \n",
       "166  https://movie.douban.com/subject/26991880/?fro...  \n",
       "167  https://movie.douban.com/subject/3408346/?from...  \n",
       "300                                      https://5.com  "
      ]
     },
     "execution_count": 27,
     "metadata": {},
     "output_type": "execute_result"
    }
   ],
   "source": [
    "df=df.append(s)\n",
    "df[-5:]"
   ]
  },
  {
   "cell_type": "code",
   "execution_count": 28,
   "metadata": {},
   "outputs": [
    {
     "data": {
      "text/html": [
       "<div>\n",
       "<style scoped>\n",
       "    .dataframe tbody tr th:only-of-type {\n",
       "        vertical-align: middle;\n",
       "    }\n",
       "\n",
       "    .dataframe tbody tr th {\n",
       "        vertical-align: top;\n",
       "    }\n",
       "\n",
       "    .dataframe thead th {\n",
       "        text-align: right;\n",
       "    }\n",
       "</style>\n",
       "<table border=\"1\" class=\"dataframe\">\n",
       "  <thead>\n",
       "    <tr style=\"text-align: right;\">\n",
       "      <th></th>\n",
       "      <th>序号</th>\n",
       "      <th>电影名</th>\n",
       "      <th>评分</th>\n",
       "      <th>电影产地</th>\n",
       "      <th>上映时间</th>\n",
       "      <th>电影主演</th>\n",
       "      <th>豆瓣链接</th>\n",
       "    </tr>\n",
       "  </thead>\n",
       "  <tbody>\n",
       "    <tr>\n",
       "      <th>163</th>\n",
       "      <td>164</td>\n",
       "      <td>圣剑天骄</td>\n",
       "      <td>0</td>\n",
       "      <td>电影产地： 香港</td>\n",
       "      <td>上映时间：  1986</td>\n",
       "      <td>电影主演:  鞠觉亮 , 刘德华 , 张卫健 , 庄静而</td>\n",
       "      <td>https://movie.douban.com/subject/19945745/?fro...</td>\n",
       "    </tr>\n",
       "    <tr>\n",
       "      <th>164</th>\n",
       "      <td>165</td>\n",
       "      <td>追龙 追龍</td>\n",
       "      <td>0</td>\n",
       "      <td>电影产地： 香港</td>\n",
       "      <td>上映时间：  2018</td>\n",
       "      <td>电影主演:  王晶 , 甄子丹 , 刘德华 , 郑则仕</td>\n",
       "      <td>https://movie.douban.com/subject/26425068/?fro...</td>\n",
       "    </tr>\n",
       "    <tr>\n",
       "      <th>165</th>\n",
       "      <td>166</td>\n",
       "      <td>神犬小七 第三季</td>\n",
       "      <td>0</td>\n",
       "      <td>电影产地： 中国大陆</td>\n",
       "      <td>上映时间：  2017</td>\n",
       "      <td>电影主演:  袁晓满 , 姜潮 , 宋妍霏 , 王洋</td>\n",
       "      <td>https://movie.douban.com/subject/26910950/?fro...</td>\n",
       "    </tr>\n",
       "    <tr>\n",
       "      <th>166</th>\n",
       "      <td>167</td>\n",
       "      <td>热血合唱团 熱血合唱團</td>\n",
       "      <td>0</td>\n",
       "      <td>电影产地： 香港</td>\n",
       "      <td>上映时间： 香港</td>\n",
       "      <td>电影主演:  剧情 , 2017 , 关信辉 , 刘德华</td>\n",
       "      <td>https://movie.douban.com/subject/26991880/?fro...</td>\n",
       "    </tr>\n",
       "    <tr>\n",
       "      <th>167</th>\n",
       "      <td>168</td>\n",
       "      <td>鼓舞</td>\n",
       "      <td>0</td>\n",
       "      <td>电影产地： 香港</td>\n",
       "      <td>上映时间： 暂无</td>\n",
       "      <td>电影主演: 香港 , 1985 , 刘德华 , 毛舜筠</td>\n",
       "      <td>https://movie.douban.com/subject/3408346/?from...</td>\n",
       "    </tr>\n",
       "  </tbody>\n",
       "</table>\n",
       "</div>"
      ],
      "text/plain": [
       "      序号          电影名 评分         电影产地          上映时间  \\\n",
       "163  164         圣剑天骄  0    电影产地： 香港   上映时间：  1986    \n",
       "164  165        追龙 追龍  0    电影产地： 香港   上映时间：  2018    \n",
       "165  166     神犬小七 第三季  0  电影产地： 中国大陆   上映时间：  2017    \n",
       "166  167  热血合唱团 熱血合唱團  0    电影产地： 香港      上映时间： 香港    \n",
       "167  168           鼓舞  0    电影产地： 香港       上映时间： 暂无   \n",
       "\n",
       "                             电影主演  \\\n",
       "163  电影主演:  鞠觉亮 , 刘德华 , 张卫健 , 庄静而   \n",
       "164   电影主演:  王晶 , 甄子丹 , 刘德华 , 郑则仕   \n",
       "165    电影主演:  袁晓满 , 姜潮 , 宋妍霏 , 王洋   \n",
       "166  电影主演:  剧情 , 2017 , 关信辉 , 刘德华   \n",
       "167   电影主演: 香港 , 1985 , 刘德华 , 毛舜筠   \n",
       "\n",
       "                                                  豆瓣链接  \n",
       "163  https://movie.douban.com/subject/19945745/?fro...  \n",
       "164  https://movie.douban.com/subject/26425068/?fro...  \n",
       "165  https://movie.douban.com/subject/26910950/?fro...  \n",
       "166  https://movie.douban.com/subject/26991880/?fro...  \n",
       "167  https://movie.douban.com/subject/3408346/?from...  "
      ]
     },
     "execution_count": 28,
     "metadata": {},
     "output_type": "execute_result"
    }
   ],
   "source": [
    "df=df.drop([300])\n",
    "df[-5:]"
   ]
  },
  {
   "cell_type": "markdown",
   "metadata": {},
   "source": [
    "列操作"
   ]
  },
  {
   "cell_type": "code",
   "execution_count": 29,
   "metadata": {},
   "outputs": [
    {
     "data": {
      "text/plain": [
       "Index(['序号', '电影名', '评分', '电影产地', '上映时间', '电影主演', '豆瓣链接'], dtype='object')"
      ]
     },
     "execution_count": 29,
     "metadata": {},
     "output_type": "execute_result"
    }
   ],
   "source": [
    "df.columns"
   ]
  },
  {
   "cell_type": "code",
   "execution_count": 31,
   "metadata": {},
   "outputs": [
    {
     "data": {
      "text/plain": [
       "0                          星星同学会 星星同學會\n",
       "1                             无间道(正序版)\n",
       "2                                暗战 暗戰\n",
       "3                                异域 異域\n",
       "4                                   金鸡\n",
       "5                          爱在阳光下 愛在陽光下\n",
       "6                            志云饭局 志雲飯局\n",
       "7                                 天若有情\n",
       "8                                   赌神\n",
       "9                无间道3：终极无间 無間道III 終極無間\n",
       "10                               无憾 無憾\n",
       "11                                真命天子\n",
       "12                                爱情恋曲\n",
       "13                                 天狼劫\n",
       "14                               争气 爭氣\n",
       "15                               摩登小男人\n",
       "16                                天下无贼\n",
       "17                           旺角卡门 旺角卡門\n",
       "18                                  黑金\n",
       "19            五亿探长雷洛传1：雷老虎 五億探長雷洛傳：雷老虎\n",
       "20                           神雕侠侣 神鵰俠侶\n",
       "21                                 杨家将\n",
       "22                                天下无贼\n",
       "23                               门徒 門徒\n",
       "24                           新上海滩 新上海灘\n",
       "25                             醉拳2 醉拳Ⅱ\n",
       "26                     上海滩十三太保 上海灘十三太保\n",
       "27                                 法内情\n",
       "28                           天长地久 天長地久\n",
       "29                                家在香港\n",
       "                    ...               \n",
       "138                   2005年中央电视台春节联欢晚会\n",
       "139                          哗！英雄 嘩！英雄\n",
       "140                               天地雄心\n",
       "141                             1/2次同床\n",
       "142                               十面埋伏\n",
       "143                              我知女人心\n",
       "144                             决战紫禁之巅\n",
       "145                               魔幻厨房\n",
       "146                              爱情梦幻号\n",
       "147                                星映话\n",
       "148                              老鼠爱上猫\n",
       "149                            卫斯理之蓝血人\n",
       "150                              轰天龙虎会\n",
       "151                            三国之见龙卸甲\n",
       "152                          侠盗联盟 俠盜聯盟\n",
       "153                                寒战3\n",
       "154                               十二金刚\n",
       "155                               捉妖天师\n",
       "156                               皇上保重\n",
       "157                         全民目击2：过渡空间\n",
       "158                                老家伙\n",
       "159                香港香港之江湖再见 香港香港之江湖再見\n",
       "160    第28届香港电影金像奖颁奖典礼 第28屆香港電影金像獎頒獎典禮\n",
       "161                              花艇小英雄\n",
       "162                          临歧：决 臨歧：決\n",
       "163                               圣剑天骄\n",
       "164                              追龙 追龍\n",
       "165                           神犬小七 第三季\n",
       "166                        热血合唱团 熱血合唱團\n",
       "167                                 鼓舞\n",
       "Name: 电影名, Length: 168, dtype: object"
      ]
     },
     "execution_count": 31,
     "metadata": {},
     "output_type": "execute_result"
    }
   ],
   "source": [
    "df['电影名']"
   ]
  },
  {
   "cell_type": "code",
   "execution_count": 32,
   "metadata": {},
   "outputs": [
    {
     "data": {
      "text/plain": [
       "0    星星同学会 星星同學會\n",
       "1       无间道(正序版)\n",
       "2          暗战 暗戰\n",
       "3          异域 異域\n",
       "4             金鸡\n",
       "Name: 电影名, dtype: object"
      ]
     },
     "execution_count": 32,
     "metadata": {},
     "output_type": "execute_result"
    }
   ],
   "source": [
    "df['电影名'][:5]"
   ]
  },
  {
   "cell_type": "code",
   "execution_count": 36,
   "metadata": {},
   "outputs": [
    {
     "data": {
      "text/html": [
       "<div>\n",
       "<style scoped>\n",
       "    .dataframe tbody tr th:only-of-type {\n",
       "        vertical-align: middle;\n",
       "    }\n",
       "\n",
       "    .dataframe tbody tr th {\n",
       "        vertical-align: top;\n",
       "    }\n",
       "\n",
       "    .dataframe thead th {\n",
       "        text-align: right;\n",
       "    }\n",
       "</style>\n",
       "<table border=\"1\" class=\"dataframe\">\n",
       "  <thead>\n",
       "    <tr style=\"text-align: right;\">\n",
       "      <th></th>\n",
       "      <th>电影名</th>\n",
       "      <th>电影主演</th>\n",
       "    </tr>\n",
       "  </thead>\n",
       "  <tbody>\n",
       "    <tr>\n",
       "      <th>0</th>\n",
       "      <td>星星同学会 星星同學會</td>\n",
       "      <td>电影主演:  2009 , 杨家宝 , 吴君如 , 钱嘉乐</td>\n",
       "    </tr>\n",
       "    <tr>\n",
       "      <th>1</th>\n",
       "      <td>无间道(正序版)</td>\n",
       "      <td>电影主演:  刘伟强 , 刘德华 , 梁朝伟 , 黎明</td>\n",
       "    </tr>\n",
       "    <tr>\n",
       "      <th>2</th>\n",
       "      <td>暗战 暗戰</td>\n",
       "      <td>电影主演:  杜琪峰 , 刘德华 , 刘青云 , 蒙嘉慧</td>\n",
       "    </tr>\n",
       "    <tr>\n",
       "      <th>3</th>\n",
       "      <td>异域 異域</td>\n",
       "      <td>电影主演:  朱延平 , 庹宗华 , 刘德华 , 郎雄</td>\n",
       "    </tr>\n",
       "    <tr>\n",
       "      <th>4</th>\n",
       "      <td>金鸡</td>\n",
       "      <td>电影主演:  赵良骏 , 吴君如 , 曾志伟 , 陈奕迅</td>\n",
       "    </tr>\n",
       "    <tr>\n",
       "      <th>5</th>\n",
       "      <td>爱在阳光下 愛在陽光下</td>\n",
       "      <td>电影主演:  刘德华 , 刘德华 , 郑秀文 , 林子祥</td>\n",
       "    </tr>\n",
       "    <tr>\n",
       "      <th>6</th>\n",
       "      <td>志云饭局 志雲飯局</td>\n",
       "      <td>电影主演:  2006 , 陈志云 , 郑裕玲 , 刘德华</td>\n",
       "    </tr>\n",
       "    <tr>\n",
       "      <th>7</th>\n",
       "      <td>天若有情</td>\n",
       "      <td>电影主演:  陈木胜 , 刘德华 , 吴倩莲 , 吴孟达</td>\n",
       "    </tr>\n",
       "    <tr>\n",
       "      <th>8</th>\n",
       "      <td>赌神</td>\n",
       "      <td>电影主演:  王晶 , 周润发 , 刘德华 , 王祖贤</td>\n",
       "    </tr>\n",
       "    <tr>\n",
       "      <th>9</th>\n",
       "      <td>无间道3：终极无间 無間道III 終極無間</td>\n",
       "      <td>电影主演:  刘伟强 , 梁朝伟 , 刘德华 , 黎明</td>\n",
       "    </tr>\n",
       "  </tbody>\n",
       "</table>\n",
       "</div>"
      ],
      "text/plain": [
       "                     电影名                           电影主演\n",
       "0            星星同学会 星星同學會  电影主演:  2009 , 杨家宝 , 吴君如 , 钱嘉乐\n",
       "1               无间道(正序版)    电影主演:  刘伟强 , 刘德华 , 梁朝伟 , 黎明\n",
       "2                  暗战 暗戰   电影主演:  杜琪峰 , 刘德华 , 刘青云 , 蒙嘉慧\n",
       "3                  异域 異域    电影主演:  朱延平 , 庹宗华 , 刘德华 , 郎雄\n",
       "4                     金鸡   电影主演:  赵良骏 , 吴君如 , 曾志伟 , 陈奕迅\n",
       "5            爱在阳光下 愛在陽光下   电影主演:  刘德华 , 刘德华 , 郑秀文 , 林子祥\n",
       "6              志云饭局 志雲飯局  电影主演:  2006 , 陈志云 , 郑裕玲 , 刘德华\n",
       "7                   天若有情   电影主演:  陈木胜 , 刘德华 , 吴倩莲 , 吴孟达\n",
       "8                     赌神    电影主演:  王晶 , 周润发 , 刘德华 , 王祖贤\n",
       "9  无间道3：终极无间 無間道III 終極無間    电影主演:  刘伟强 , 梁朝伟 , 刘德华 , 黎明"
      ]
     },
     "execution_count": 36,
     "metadata": {},
     "output_type": "execute_result"
    }
   ],
   "source": [
    "df[['电影名','电影主演']][:10]"
   ]
  },
  {
   "cell_type": "code",
   "execution_count": 37,
   "metadata": {},
   "outputs": [
    {
     "data": {
      "text/html": [
       "<div>\n",
       "<style scoped>\n",
       "    .dataframe tbody tr th:only-of-type {\n",
       "        vertical-align: middle;\n",
       "    }\n",
       "\n",
       "    .dataframe tbody tr th {\n",
       "        vertical-align: top;\n",
       "    }\n",
       "\n",
       "    .dataframe thead th {\n",
       "        text-align: right;\n",
       "    }\n",
       "</style>\n",
       "<table border=\"1\" class=\"dataframe\">\n",
       "  <thead>\n",
       "    <tr style=\"text-align: right;\">\n",
       "      <th></th>\n",
       "      <th>序号</th>\n",
       "      <th>电影名</th>\n",
       "      <th>评分</th>\n",
       "      <th>电影产地</th>\n",
       "      <th>上映时间</th>\n",
       "      <th>电影主演</th>\n",
       "      <th>豆瓣链接</th>\n",
       "      <th>名字</th>\n",
       "    </tr>\n",
       "  </thead>\n",
       "  <tbody>\n",
       "    <tr>\n",
       "      <th>0</th>\n",
       "      <td>1</td>\n",
       "      <td>星星同学会 星星同學會</td>\n",
       "      <td>8.9</td>\n",
       "      <td>电影产地： 香港</td>\n",
       "      <td>上映时间：  脱口秀</td>\n",
       "      <td>电影主演:  2009 , 杨家宝 , 吴君如 , 钱嘉乐</td>\n",
       "      <td>https://movie.douban.com/subject/26426069/?fro...</td>\n",
       "      <td>1</td>\n",
       "    </tr>\n",
       "    <tr>\n",
       "      <th>1</th>\n",
       "      <td>2</td>\n",
       "      <td>无间道(正序版)</td>\n",
       "      <td>8.7</td>\n",
       "      <td>电影产地： 香港</td>\n",
       "      <td>上映时间：  2006</td>\n",
       "      <td>电影主演:  刘伟强 , 刘德华 , 梁朝伟 , 黎明</td>\n",
       "      <td>https://movie.douban.com/subject/4860078/?from...</td>\n",
       "      <td>2</td>\n",
       "    </tr>\n",
       "    <tr>\n",
       "      <th>2</th>\n",
       "      <td>3</td>\n",
       "      <td>暗战 暗戰</td>\n",
       "      <td>8.4</td>\n",
       "      <td>电影产地： 香港</td>\n",
       "      <td>上映时间：  1999</td>\n",
       "      <td>电影主演:  杜琪峰 , 刘德华 , 刘青云 , 蒙嘉慧</td>\n",
       "      <td>https://movie.douban.com/subject/1298898/?from...</td>\n",
       "      <td>3</td>\n",
       "    </tr>\n",
       "    <tr>\n",
       "      <th>3</th>\n",
       "      <td>4</td>\n",
       "      <td>异域 異域</td>\n",
       "      <td>8.3</td>\n",
       "      <td>电影产地： 台湾</td>\n",
       "      <td>上映时间：  1990</td>\n",
       "      <td>电影主演:  朱延平 , 庹宗华 , 刘德华 , 郎雄</td>\n",
       "      <td>https://movie.douban.com/subject/1307756/?from...</td>\n",
       "      <td>4</td>\n",
       "    </tr>\n",
       "    <tr>\n",
       "      <th>4</th>\n",
       "      <td>5</td>\n",
       "      <td>金鸡</td>\n",
       "      <td>8.1</td>\n",
       "      <td>电影产地： 香港</td>\n",
       "      <td>上映时间：  2002</td>\n",
       "      <td>电影主演:  赵良骏 , 吴君如 , 曾志伟 , 陈奕迅</td>\n",
       "      <td>https://movie.douban.com/subject/1303630/?from...</td>\n",
       "      <td>5</td>\n",
       "    </tr>\n",
       "    <tr>\n",
       "      <th>5</th>\n",
       "      <td>6</td>\n",
       "      <td>爱在阳光下 愛在陽光下</td>\n",
       "      <td>8.1</td>\n",
       "      <td>电影产地： 香港</td>\n",
       "      <td>上映时间：  2003</td>\n",
       "      <td>电影主演:  刘德华 , 刘德华 , 郑秀文 , 林子祥</td>\n",
       "      <td>https://movie.douban.com/subject/3798935/?from...</td>\n",
       "      <td>6</td>\n",
       "    </tr>\n",
       "    <tr>\n",
       "      <th>6</th>\n",
       "      <td>7</td>\n",
       "      <td>志云饭局 志雲飯局</td>\n",
       "      <td>8.1</td>\n",
       "      <td>电影产地： 香港</td>\n",
       "      <td>上映时间：  脱口秀</td>\n",
       "      <td>电影主演:  2006 , 陈志云 , 郑裕玲 , 刘德华</td>\n",
       "      <td>https://movie.douban.com/subject/26435674/?fro...</td>\n",
       "      <td>7</td>\n",
       "    </tr>\n",
       "    <tr>\n",
       "      <th>7</th>\n",
       "      <td>8</td>\n",
       "      <td>天若有情</td>\n",
       "      <td>8</td>\n",
       "      <td>电影产地： 香港</td>\n",
       "      <td>上映时间：  1990</td>\n",
       "      <td>电影主演:  陈木胜 , 刘德华 , 吴倩莲 , 吴孟达</td>\n",
       "      <td>https://movie.douban.com/subject/1297710/?from...</td>\n",
       "      <td>8</td>\n",
       "    </tr>\n",
       "    <tr>\n",
       "      <th>8</th>\n",
       "      <td>9</td>\n",
       "      <td>赌神</td>\n",
       "      <td>7.9</td>\n",
       "      <td>电影产地： 香港</td>\n",
       "      <td>上映时间：  1989</td>\n",
       "      <td>电影主演:  王晶 , 周润发 , 刘德华 , 王祖贤</td>\n",
       "      <td>https://movie.douban.com/subject/1300883/?from...</td>\n",
       "      <td>9</td>\n",
       "    </tr>\n",
       "    <tr>\n",
       "      <th>9</th>\n",
       "      <td>10</td>\n",
       "      <td>无间道3：终极无间 無間道III 終極無間</td>\n",
       "      <td>7.8</td>\n",
       "      <td>电影产地： 中国大陆</td>\n",
       "      <td>上映时间：  2003</td>\n",
       "      <td>电影主演:  刘伟强 , 梁朝伟 , 刘德华 , 黎明</td>\n",
       "      <td>https://movie.douban.com/subject/1307694/?from...</td>\n",
       "      <td>10</td>\n",
       "    </tr>\n",
       "  </tbody>\n",
       "</table>\n",
       "</div>"
      ],
      "text/plain": [
       "   序号                    电影名   评分         电影产地          上映时间  \\\n",
       "0   1            星星同学会 星星同學會  8.9    电影产地： 香港    上映时间：  脱口秀    \n",
       "1   2               无间道(正序版)  8.7    电影产地： 香港   上映时间：  2006    \n",
       "2   3                  暗战 暗戰  8.4    电影产地： 香港   上映时间：  1999    \n",
       "3   4                  异域 異域  8.3    电影产地： 台湾   上映时间：  1990    \n",
       "4   5                     金鸡  8.1    电影产地： 香港   上映时间：  2002    \n",
       "5   6            爱在阳光下 愛在陽光下  8.1    电影产地： 香港   上映时间：  2003    \n",
       "6   7              志云饭局 志雲飯局  8.1    电影产地： 香港    上映时间：  脱口秀    \n",
       "7   8                   天若有情    8    电影产地： 香港   上映时间：  1990    \n",
       "8   9                     赌神  7.9    电影产地： 香港   上映时间：  1989    \n",
       "9  10  无间道3：终极无间 無間道III 終極無間  7.8  电影产地： 中国大陆   上映时间：  2003    \n",
       "\n",
       "                            电影主演  \\\n",
       "0  电影主演:  2009 , 杨家宝 , 吴君如 , 钱嘉乐   \n",
       "1    电影主演:  刘伟强 , 刘德华 , 梁朝伟 , 黎明   \n",
       "2   电影主演:  杜琪峰 , 刘德华 , 刘青云 , 蒙嘉慧   \n",
       "3    电影主演:  朱延平 , 庹宗华 , 刘德华 , 郎雄   \n",
       "4   电影主演:  赵良骏 , 吴君如 , 曾志伟 , 陈奕迅   \n",
       "5   电影主演:  刘德华 , 刘德华 , 郑秀文 , 林子祥   \n",
       "6  电影主演:  2006 , 陈志云 , 郑裕玲 , 刘德华   \n",
       "7   电影主演:  陈木胜 , 刘德华 , 吴倩莲 , 吴孟达   \n",
       "8    电影主演:  王晶 , 周润发 , 刘德华 , 王祖贤   \n",
       "9    电影主演:  刘伟强 , 梁朝伟 , 刘德华 , 黎明   \n",
       "\n",
       "                                                豆瓣链接  名字  \n",
       "0  https://movie.douban.com/subject/26426069/?fro...   1  \n",
       "1  https://movie.douban.com/subject/4860078/?from...   2  \n",
       "2  https://movie.douban.com/subject/1298898/?from...   3  \n",
       "3  https://movie.douban.com/subject/1307756/?from...   4  \n",
       "4  https://movie.douban.com/subject/1303630/?from...   5  \n",
       "5  https://movie.douban.com/subject/3798935/?from...   6  \n",
       "6  https://movie.douban.com/subject/26435674/?fro...   7  \n",
       "7  https://movie.douban.com/subject/1297710/?from...   8  \n",
       "8  https://movie.douban.com/subject/1300883/?from...   9  \n",
       "9  https://movie.douban.com/subject/1307694/?from...  10  "
      ]
     },
     "execution_count": 37,
     "metadata": {},
     "output_type": "execute_result"
    }
   ],
   "source": [
    "df['名字']=range(1,len(df)+1)\n",
    "df[:10]"
   ]
  },
  {
   "cell_type": "code",
   "execution_count": 39,
   "metadata": {},
   "outputs": [
    {
     "data": {
      "text/html": [
       "<div>\n",
       "<style scoped>\n",
       "    .dataframe tbody tr th:only-of-type {\n",
       "        vertical-align: middle;\n",
       "    }\n",
       "\n",
       "    .dataframe tbody tr th {\n",
       "        vertical-align: top;\n",
       "    }\n",
       "\n",
       "    .dataframe thead th {\n",
       "        text-align: right;\n",
       "    }\n",
       "</style>\n",
       "<table border=\"1\" class=\"dataframe\">\n",
       "  <thead>\n",
       "    <tr style=\"text-align: right;\">\n",
       "      <th></th>\n",
       "      <th>电影名</th>\n",
       "      <th>评分</th>\n",
       "      <th>电影产地</th>\n",
       "      <th>上映时间</th>\n",
       "      <th>电影主演</th>\n",
       "      <th>豆瓣链接</th>\n",
       "    </tr>\n",
       "  </thead>\n",
       "  <tbody>\n",
       "    <tr>\n",
       "      <th>0</th>\n",
       "      <td>星星同学会 星星同學會</td>\n",
       "      <td>8.9</td>\n",
       "      <td>电影产地： 香港</td>\n",
       "      <td>上映时间：  脱口秀</td>\n",
       "      <td>电影主演:  2009 , 杨家宝 , 吴君如 , 钱嘉乐</td>\n",
       "      <td>https://movie.douban.com/subject/26426069/?fro...</td>\n",
       "    </tr>\n",
       "    <tr>\n",
       "      <th>1</th>\n",
       "      <td>无间道(正序版)</td>\n",
       "      <td>8.7</td>\n",
       "      <td>电影产地： 香港</td>\n",
       "      <td>上映时间：  2006</td>\n",
       "      <td>电影主演:  刘伟强 , 刘德华 , 梁朝伟 , 黎明</td>\n",
       "      <td>https://movie.douban.com/subject/4860078/?from...</td>\n",
       "    </tr>\n",
       "    <tr>\n",
       "      <th>2</th>\n",
       "      <td>暗战 暗戰</td>\n",
       "      <td>8.4</td>\n",
       "      <td>电影产地： 香港</td>\n",
       "      <td>上映时间：  1999</td>\n",
       "      <td>电影主演:  杜琪峰 , 刘德华 , 刘青云 , 蒙嘉慧</td>\n",
       "      <td>https://movie.douban.com/subject/1298898/?from...</td>\n",
       "    </tr>\n",
       "    <tr>\n",
       "      <th>3</th>\n",
       "      <td>异域 異域</td>\n",
       "      <td>8.3</td>\n",
       "      <td>电影产地： 台湾</td>\n",
       "      <td>上映时间：  1990</td>\n",
       "      <td>电影主演:  朱延平 , 庹宗华 , 刘德华 , 郎雄</td>\n",
       "      <td>https://movie.douban.com/subject/1307756/?from...</td>\n",
       "    </tr>\n",
       "    <tr>\n",
       "      <th>4</th>\n",
       "      <td>金鸡</td>\n",
       "      <td>8.1</td>\n",
       "      <td>电影产地： 香港</td>\n",
       "      <td>上映时间：  2002</td>\n",
       "      <td>电影主演:  赵良骏 , 吴君如 , 曾志伟 , 陈奕迅</td>\n",
       "      <td>https://movie.douban.com/subject/1303630/?from...</td>\n",
       "    </tr>\n",
       "    <tr>\n",
       "      <th>5</th>\n",
       "      <td>爱在阳光下 愛在陽光下</td>\n",
       "      <td>8.1</td>\n",
       "      <td>电影产地： 香港</td>\n",
       "      <td>上映时间：  2003</td>\n",
       "      <td>电影主演:  刘德华 , 刘德华 , 郑秀文 , 林子祥</td>\n",
       "      <td>https://movie.douban.com/subject/3798935/?from...</td>\n",
       "    </tr>\n",
       "    <tr>\n",
       "      <th>6</th>\n",
       "      <td>志云饭局 志雲飯局</td>\n",
       "      <td>8.1</td>\n",
       "      <td>电影产地： 香港</td>\n",
       "      <td>上映时间：  脱口秀</td>\n",
       "      <td>电影主演:  2006 , 陈志云 , 郑裕玲 , 刘德华</td>\n",
       "      <td>https://movie.douban.com/subject/26435674/?fro...</td>\n",
       "    </tr>\n",
       "    <tr>\n",
       "      <th>7</th>\n",
       "      <td>天若有情</td>\n",
       "      <td>8</td>\n",
       "      <td>电影产地： 香港</td>\n",
       "      <td>上映时间：  1990</td>\n",
       "      <td>电影主演:  陈木胜 , 刘德华 , 吴倩莲 , 吴孟达</td>\n",
       "      <td>https://movie.douban.com/subject/1297710/?from...</td>\n",
       "    </tr>\n",
       "    <tr>\n",
       "      <th>8</th>\n",
       "      <td>赌神</td>\n",
       "      <td>7.9</td>\n",
       "      <td>电影产地： 香港</td>\n",
       "      <td>上映时间：  1989</td>\n",
       "      <td>电影主演:  王晶 , 周润发 , 刘德华 , 王祖贤</td>\n",
       "      <td>https://movie.douban.com/subject/1300883/?from...</td>\n",
       "    </tr>\n",
       "    <tr>\n",
       "      <th>9</th>\n",
       "      <td>无间道3：终极无间 無間道III 終極無間</td>\n",
       "      <td>7.8</td>\n",
       "      <td>电影产地： 中国大陆</td>\n",
       "      <td>上映时间：  2003</td>\n",
       "      <td>电影主演:  刘伟强 , 梁朝伟 , 刘德华 , 黎明</td>\n",
       "      <td>https://movie.douban.com/subject/1307694/?from...</td>\n",
       "    </tr>\n",
       "  </tbody>\n",
       "</table>\n",
       "</div>"
      ],
      "text/plain": [
       "                     电影名   评分         电影产地          上映时间  \\\n",
       "0            星星同学会 星星同學會  8.9    电影产地： 香港    上映时间：  脱口秀    \n",
       "1               无间道(正序版)  8.7    电影产地： 香港   上映时间：  2006    \n",
       "2                  暗战 暗戰  8.4    电影产地： 香港   上映时间：  1999    \n",
       "3                  异域 異域  8.3    电影产地： 台湾   上映时间：  1990    \n",
       "4                     金鸡  8.1    电影产地： 香港   上映时间：  2002    \n",
       "5            爱在阳光下 愛在陽光下  8.1    电影产地： 香港   上映时间：  2003    \n",
       "6              志云饭局 志雲飯局  8.1    电影产地： 香港    上映时间：  脱口秀    \n",
       "7                   天若有情    8    电影产地： 香港   上映时间：  1990    \n",
       "8                     赌神  7.9    电影产地： 香港   上映时间：  1989    \n",
       "9  无间道3：终极无间 無間道III 終極無間  7.8  电影产地： 中国大陆   上映时间：  2003    \n",
       "\n",
       "                            电影主演  \\\n",
       "0  电影主演:  2009 , 杨家宝 , 吴君如 , 钱嘉乐   \n",
       "1    电影主演:  刘伟强 , 刘德华 , 梁朝伟 , 黎明   \n",
       "2   电影主演:  杜琪峰 , 刘德华 , 刘青云 , 蒙嘉慧   \n",
       "3    电影主演:  朱延平 , 庹宗华 , 刘德华 , 郎雄   \n",
       "4   电影主演:  赵良骏 , 吴君如 , 曾志伟 , 陈奕迅   \n",
       "5   电影主演:  刘德华 , 刘德华 , 郑秀文 , 林子祥   \n",
       "6  电影主演:  2006 , 陈志云 , 郑裕玲 , 刘德华   \n",
       "7   电影主演:  陈木胜 , 刘德华 , 吴倩莲 , 吴孟达   \n",
       "8    电影主演:  王晶 , 周润发 , 刘德华 , 王祖贤   \n",
       "9    电影主演:  刘伟强 , 梁朝伟 , 刘德华 , 黎明   \n",
       "\n",
       "                                                豆瓣链接  \n",
       "0  https://movie.douban.com/subject/26426069/?fro...  \n",
       "1  https://movie.douban.com/subject/4860078/?from...  \n",
       "2  https://movie.douban.com/subject/1298898/?from...  \n",
       "3  https://movie.douban.com/subject/1307756/?from...  \n",
       "4  https://movie.douban.com/subject/1303630/?from...  \n",
       "5  https://movie.douban.com/subject/3798935/?from...  \n",
       "6  https://movie.douban.com/subject/26435674/?fro...  \n",
       "7  https://movie.douban.com/subject/1297710/?from...  \n",
       "8  https://movie.douban.com/subject/1300883/?from...  \n",
       "9  https://movie.douban.com/subject/1307694/?from...  "
      ]
     },
     "execution_count": 39,
     "metadata": {},
     "output_type": "execute_result"
    }
   ],
   "source": [
    "df=df.drop('名字',axis=1)\n",
    "df[:10]"
   ]
  },
  {
   "cell_type": "code",
   "execution_count": 40,
   "metadata": {},
   "outputs": [
    {
     "data": {
      "text/plain": [
       "'异域 異域'"
      ]
     },
     "execution_count": 40,
     "metadata": {},
     "output_type": "execute_result"
    }
   ],
   "source": [
    "df.loc[3,'电影名']"
   ]
  },
  {
   "cell_type": "code",
   "execution_count": 42,
   "metadata": {},
   "outputs": [
    {
     "data": {
      "text/html": [
       "<div>\n",
       "<style scoped>\n",
       "    .dataframe tbody tr th:only-of-type {\n",
       "        vertical-align: middle;\n",
       "    }\n",
       "\n",
       "    .dataframe tbody tr th {\n",
       "        vertical-align: top;\n",
       "    }\n",
       "\n",
       "    .dataframe thead th {\n",
       "        text-align: right;\n",
       "    }\n",
       "</style>\n",
       "<table border=\"1\" class=\"dataframe\">\n",
       "  <thead>\n",
       "    <tr style=\"text-align: right;\">\n",
       "      <th></th>\n",
       "      <th>电影名</th>\n",
       "      <th>评分</th>\n",
       "    </tr>\n",
       "  </thead>\n",
       "  <tbody>\n",
       "    <tr>\n",
       "      <th>1</th>\n",
       "      <td>无间道(正序版)</td>\n",
       "      <td>8.7</td>\n",
       "    </tr>\n",
       "    <tr>\n",
       "      <th>3</th>\n",
       "      <td>异域 異域</td>\n",
       "      <td>8.3</td>\n",
       "    </tr>\n",
       "    <tr>\n",
       "      <th>5</th>\n",
       "      <td>爱在阳光下 愛在陽光下</td>\n",
       "      <td>8.1</td>\n",
       "    </tr>\n",
       "    <tr>\n",
       "      <th>7</th>\n",
       "      <td>天若有情</td>\n",
       "      <td>8</td>\n",
       "    </tr>\n",
       "    <tr>\n",
       "      <th>9</th>\n",
       "      <td>无间道3：终极无间 無間道III 終極無間</td>\n",
       "      <td>7.8</td>\n",
       "    </tr>\n",
       "  </tbody>\n",
       "</table>\n",
       "</div>"
      ],
      "text/plain": [
       "                     电影名   评分\n",
       "1               无间道(正序版)  8.7\n",
       "3                  异域 異域  8.3\n",
       "5            爱在阳光下 愛在陽光下  8.1\n",
       "7                   天若有情    8\n",
       "9  无间道3：终极无间 無間道III 終極無間  7.8"
      ]
     },
     "execution_count": 42,
     "metadata": {},
     "output_type": "execute_result"
    }
   ],
   "source": [
    "df.loc[[1,3,5,7,9],['电影名','评分']]"
   ]
  },
  {
   "cell_type": "code",
   "execution_count": 57,
   "metadata": {},
   "outputs": [
    {
     "data": {
      "text/html": [
       "<div>\n",
       "<style scoped>\n",
       "    .dataframe tbody tr th:only-of-type {\n",
       "        vertical-align: middle;\n",
       "    }\n",
       "\n",
       "    .dataframe tbody tr th {\n",
       "        vertical-align: top;\n",
       "    }\n",
       "\n",
       "    .dataframe thead th {\n",
       "        text-align: right;\n",
       "    }\n",
       "</style>\n",
       "<table border=\"1\" class=\"dataframe\">\n",
       "  <thead>\n",
       "    <tr style=\"text-align: right;\">\n",
       "      <th></th>\n",
       "      <th>电影名</th>\n",
       "      <th>评分</th>\n",
       "      <th>电影产地</th>\n",
       "      <th>上映时间</th>\n",
       "      <th>电影主演</th>\n",
       "      <th>豆瓣链接</th>\n",
       "    </tr>\n",
       "  </thead>\n",
       "  <tbody>\n",
       "    <tr>\n",
       "      <th>0</th>\n",
       "      <td>星星同学会 星星同學會</td>\n",
       "      <td>8.9</td>\n",
       "      <td>电影产地： 香港</td>\n",
       "      <td>上映时间：  脱口秀</td>\n",
       "      <td>电影主演:  2009 , 杨家宝 , 吴君如 , 钱嘉乐</td>\n",
       "      <td>https://movie.douban.com/subject/26426069/?fro...</td>\n",
       "    </tr>\n",
       "    <tr>\n",
       "      <th>1</th>\n",
       "      <td>无间道(正序版)</td>\n",
       "      <td>8.7</td>\n",
       "      <td>电影产地： 香港</td>\n",
       "      <td>上映时间：  2006</td>\n",
       "      <td>电影主演:  刘伟强 , 刘德华 , 梁朝伟 , 黎明</td>\n",
       "      <td>https://movie.douban.com/subject/4860078/?from...</td>\n",
       "    </tr>\n",
       "    <tr>\n",
       "      <th>2</th>\n",
       "      <td>暗战 暗戰</td>\n",
       "      <td>8.4</td>\n",
       "      <td>电影产地： 香港</td>\n",
       "      <td>上映时间：  1999</td>\n",
       "      <td>电影主演:  杜琪峰 , 刘德华 , 刘青云 , 蒙嘉慧</td>\n",
       "      <td>https://movie.douban.com/subject/1298898/?from...</td>\n",
       "    </tr>\n",
       "    <tr>\n",
       "      <th>4</th>\n",
       "      <td>金鸡</td>\n",
       "      <td>8.1</td>\n",
       "      <td>电影产地： 香港</td>\n",
       "      <td>上映时间：  2002</td>\n",
       "      <td>电影主演:  赵良骏 , 吴君如 , 曾志伟 , 陈奕迅</td>\n",
       "      <td>https://movie.douban.com/subject/1303630/?from...</td>\n",
       "    </tr>\n",
       "    <tr>\n",
       "      <th>5</th>\n",
       "      <td>爱在阳光下 愛在陽光下</td>\n",
       "      <td>8.1</td>\n",
       "      <td>电影产地： 香港</td>\n",
       "      <td>上映时间：  2003</td>\n",
       "      <td>电影主演:  刘德华 , 刘德华 , 郑秀文 , 林子祥</td>\n",
       "      <td>https://movie.douban.com/subject/3798935/?from...</td>\n",
       "    </tr>\n",
       "  </tbody>\n",
       "</table>\n",
       "</div>"
      ],
      "text/plain": [
       "           电影名   评分       电影产地          上映时间                           电影主演  \\\n",
       "0  星星同学会 星星同學會  8.9  电影产地： 香港    上映时间：  脱口秀   电影主演:  2009 , 杨家宝 , 吴君如 , 钱嘉乐   \n",
       "1     无间道(正序版)  8.7  电影产地： 香港   上映时间：  2006     电影主演:  刘伟强 , 刘德华 , 梁朝伟 , 黎明   \n",
       "2        暗战 暗戰  8.4  电影产地： 香港   上映时间：  1999    电影主演:  杜琪峰 , 刘德华 , 刘青云 , 蒙嘉慧   \n",
       "4           金鸡  8.1  电影产地： 香港   上映时间：  2002    电影主演:  赵良骏 , 吴君如 , 曾志伟 , 陈奕迅   \n",
       "5  爱在阳光下 愛在陽光下  8.1  电影产地： 香港   上映时间：  2003    电影主演:  刘德华 , 刘德华 , 郑秀文 , 林子祥   \n",
       "\n",
       "                                                豆瓣链接  \n",
       "0  https://movie.douban.com/subject/26426069/?fro...  \n",
       "1  https://movie.douban.com/subject/4860078/?from...  \n",
       "2  https://movie.douban.com/subject/1298898/?from...  \n",
       "4  https://movie.douban.com/subject/1303630/?from...  \n",
       "5  https://movie.douban.com/subject/3798935/?from...  "
      ]
     },
     "execution_count": 57,
     "metadata": {},
     "output_type": "execute_result"
    }
   ],
   "source": [
    "df[df['电影产地']=='电影产地： 香港 '][:5]"
   ]
  },
  {
   "cell_type": "code",
   "execution_count": null,
   "metadata": {},
   "outputs": [],
   "source": []
  }
 ],
 "metadata": {
  "kernelspec": {
   "display_name": "Python 3",
   "language": "python",
   "name": "python3"
  },
  "language_info": {
   "codemirror_mode": {
    "name": "ipython",
    "version": 3
   },
   "file_extension": ".py",
   "mimetype": "text/x-python",
   "name": "python",
   "nbconvert_exporter": "python",
   "pygments_lexer": "ipython3",
   "version": "3.7.2"
  },
  "toc": {
   "base_numbering": 1,
   "nav_menu": {},
   "number_sections": true,
   "sideBar": true,
   "skip_h1_title": true,
   "title_cell": "Table of Contents",
   "title_sidebar": "Contents",
   "toc_cell": false,
   "toc_position": {
    "height": "calc(100% - 180px)",
    "left": "10px",
    "top": "150px",
    "width": "200px"
   },
   "toc_section_display": true,
   "toc_window_display": true
  }
 },
 "nbformat": 4,
 "nbformat_minor": 2
}
