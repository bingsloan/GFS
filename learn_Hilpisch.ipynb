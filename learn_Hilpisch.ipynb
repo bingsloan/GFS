{
 "cells": [
  {
   "cell_type": "code",
   "execution_count": 8,
   "metadata": {},
   "outputs": [
    {
     "data": {
      "text/html": [
       "<script>\n",
       "code_show=true; \n",
       "function code_toggle() {\n",
       " if (code_show){\n",
       " $('div.input').hide();\n",
       " } else {\n",
       " $('div.input').show();\n",
       " }\n",
       " code_show = !code_show\n",
       "} \n",
       "$( document ).ready(code_toggle);\n",
       "</script>\n",
       "<form action=\"javascript:code_toggle()\"><input type=\"submit\" value=\"Click here to toggle on/off the raw code.\"></form>"
      ],
      "text/plain": [
       "<IPython.core.display.HTML object>"
      ]
     },
     "execution_count": 8,
     "metadata": {},
     "output_type": "execute_result"
    }
   ],
   "source": [
    "from IPython.display import HTML\n",
    "\n",
    "HTML('''<script>\n",
    "code_show=true; \n",
    "function code_toggle() {\n",
    " if (code_show){\n",
    " $('div.input').hide();\n",
    " } else {\n",
    " $('div.input').show();\n",
    " }\n",
    " code_show = !code_show\n",
    "} \n",
    "$( document ).ready(code_toggle);\n",
    "</script>\n",
    "<form action=\"javascript:code_toggle()\"><input type=\"submit\" value=\"Click here to toggle on/off the raw code.\"></form>''')\n",
    "\n"
   ]
  },
  {
   "cell_type": "markdown",
   "metadata": {},
   "source": [
    "# Monte Carlo valuation of European call options waith Numpy"
   ]
  },
  {
   "cell_type": "markdown",
   "metadata": {},
   "source": [
    "## Black-Scholes-Merton option valuation "
   ]
  },
  {
   "cell_type": "markdown",
   "metadata": {},
   "source": [
    "$$C(S_t,K,t,T,r,\\sigma)=S_t \\cdot N(d_1)-e^{-r(T-t)} \\cdot K \\cdot N(d_2))$$\n",
    "\n",
    "$$ N(d)=\\frac{1}{\\sqrt{2\\pi}}\\int_{-\\infty}^d e^{-\\frac{1}{2}x^2}dx$$\n",
    "\n",
    "$$d_1=\\frac{log\\frac{S_t}{K}+\\left(r+\\frac{\\sigma^2}{2}\\right)(T-t)}{\\sigma\\sqrt{T-t}}$$\n",
    "\n",
    "$$d_2=\\frac{log\\frac{S_t}{K}+\\left(r+\\frac{\\sigma^2}{2}\\right)(T-t)}{\\sigma\\sqrt{T-t}}$$\n",
    "\n",
    "$S_t\\quad在时点t的标的物价格水平$\n",
    "\n",
    "$K\\quad期权行权价格$\n",
    "\n",
    "$T\\quad期权到期日$\n",
    "\n",
    "$r\\quad固定无风险短期利率$\n",
    "\n",
    "$\\sigma\\quad标的物固定波动率（即收益的标准差）$"
   ]
  },
  {
   "cell_type": "markdown",
   "metadata": {},
   "source": [
    "$$BSM模型中欧式期权的Vega(即C对波动率\\sigma的偏微分)$$\n",
    "\n",
    "$$\\frac{\\partial C}{\\partial\\sigma}=S_tN(d_1)\\sqrt{T-t}$$\n"
   ]
  },
  {
   "cell_type": "markdown",
   "metadata": {},
   "source": [
    "$$BSM的随机微分方程（SDE)$$\n",
    "$$dS_t=rS_tdt+\\sigma S_tdZ_t$$\n",
    "$其中Z是布朗运动$"
   ]
  },
  {
   "cell_type": "markdown",
   "metadata": {},
   "source": [
    "$$SDE的欧拉离散$$\n",
    "$$S_t=S_{t-\\vartriangle t}exp\\left(\\left(r-\\frac{1}{2}\\sigma ^2\\right)\\vartriangle t + \\sigma\\sqrt{\\vartriangle t}z_t\\right)$$\n",
    "$其中Z是标准正态分布随机变量$"
   ]
  },
  {
   "cell_type": "markdown",
   "metadata": {},
   "source": [
    "$$欧式看涨期权的蒙特卡洛估算函数$$\n",
    "$$ C_0 \\approx e^{-rT}\\frac{1}{I}\\sum_{I}{h_T(S_T(i))}$$"
   ]
  },
  {
   "cell_type": "markdown",
   "metadata": {},
   "source": [
    "## Pure python implementation"
   ]
  },
  {
   "cell_type": "code",
   "execution_count": 14,
   "metadata": {},
   "outputs": [
    {
     "name": "stdout",
     "output_type": "stream",
     "text": [
      "European Option Value   7.999\n",
      "Duration in Seconds    24.841\n"
     ]
    }
   ],
   "source": [
    "#pure python implementation\n",
    "\n",
    "from time import time\n",
    "from math import exp, sqrt, log\n",
    "from random import gauss, seed\n",
    "\n",
    "seed(20000)\n",
    "start=time()\n",
    "\n",
    "#Parameters.St 在时点t的标的物价格水平；K期权行权价格；T期权到期日；r 固定无风险短期利率; sigma 标的物固定波动率（即收益标准差）\n",
    "S0=100.;K=105.;T=1.0;r=0.05;sigma=0.2;\n",
    "M=50; dt=T/M;I=250000\n",
    "\n",
    "#Simulating I paths with M time steps\n",
    "S=[]\n",
    "for i in range(I):\n",
    "    path=[]\n",
    "    for t in range(M+1):\n",
    "        if t == 0:\n",
    "            path.append(S0)\n",
    "        else:\n",
    "            z = gauss(0.0,1.0)\n",
    "            St = path[t-1]*exp((r-0.5*sigma**2)*dt+sigma*sqrt(dt)*z)\n",
    "            path.append(St)\n",
    "        \n",
    "    S.append(path)\n",
    "\n",
    "#Calculating the Monte Carlo estimator\n",
    "C0 = math.exp(-r * T) *sum([max(path[-1]-K,0) for path in S])/ I\n",
    "\n",
    "#Results output\n",
    "end =time()\n",
    "\n",
    "print (\"European Option Value %7.3f\" %C0)\n",
    "print (\"Duration in Seconds   %7.3f\" %(end-start))\n",
    "                "
   ]
  },
  {
   "cell_type": "markdown",
   "metadata": {},
   "source": [
    "## Numpy Vector Implementation"
   ]
  },
  {
   "cell_type": "code",
   "execution_count": 9,
   "metadata": {},
   "outputs": [
    {
     "name": "stdout",
     "output_type": "stream",
     "text": [
      "European Option Value   8.037\n",
      "Duration in Seconds     0.679\n"
     ]
    }
   ],
   "source": [
    "#numpy vector implementation\n",
    "\n",
    "import math\n",
    "import numpy as np\n",
    "from time import time\n",
    "\n",
    "np.random.seed(20000)\n",
    "start=time()\n",
    "\n",
    "#parameters. St 在时点t的标的物价格水平；K期权行权价格；T期权到期日；r 固定无风险短期利率; sigma 标的物固定波动率（即收益标准差）\n",
    "S0=100.;K=105.;T=1.0;r=0.05;sigma=0.2;\n",
    "M=50; dt=T/M;I=250000\n",
    "\n",
    "#simulating I paths with M time steps\n",
    "S = np.zeros((M+1,I))\n",
    "S[0] = S0;\n",
    "for t in range(1,M+1):\n",
    "    z = np.random.standard_normal(I)  #pesudorandom numbers\n",
    "    S[t] = S[t-1] * np.exp((r-0.5*sigma**2)*dt + sigma * math.sqrt(dt) * z) #vectorized operation per time step over all paths\n",
    "\n",
    "#Calculating the Monte Carlo estimator\n",
    "C0 = math.exp(-r * T) * np.sum(np.maximum(S[-1]-K,0))/ I\n",
    "\n",
    "#Result output\n",
    "\n",
    "end = time()\n",
    "\n",
    "print (\"European Option Value %7.3f\" %C0)\n",
    "print (\"Duration in Seconds   %7.3f\" %(end-start))\n",
    "    \n"
   ]
  }
 ],
 "metadata": {
  "kernelspec": {
   "display_name": "Python 3",
   "language": "python",
   "name": "python3"
  },
  "language_info": {
   "codemirror_mode": {
    "name": "ipython",
    "version": 3
   },
   "file_extension": ".py",
   "mimetype": "text/x-python",
   "name": "python",
   "nbconvert_exporter": "python",
   "pygments_lexer": "ipython3",
   "version": "3.7.2"
  },
  "toc": {
   "base_numbering": 1,
   "nav_menu": {},
   "number_sections": true,
   "sideBar": true,
   "skip_h1_title": true,
   "title_cell": "Table of Contents",
   "title_sidebar": "Contents",
   "toc_cell": false,
   "toc_position": {
    "height": "calc(100% - 180px)",
    "left": "10px",
    "top": "150px",
    "width": "165px"
   },
   "toc_section_display": true,
   "toc_window_display": false
  }
 },
 "nbformat": 4,
 "nbformat_minor": 2
}
